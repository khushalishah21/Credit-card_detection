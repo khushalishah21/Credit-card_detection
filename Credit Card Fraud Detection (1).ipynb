{
 "cells": [
  {
   "cell_type": "markdown",
   "metadata": {
    "id": "QAAaz1mlXXyf"
   },
   "source": [
    "# Credit Card Fraud Detection"
   ]
  },
  {
   "cell_type": "markdown",
   "metadata": {
    "id": "xyoJoZF3XXyj"
   },
   "source": [
    "### Content\n",
    "\n",
    "\n",
    "It is important that credit card companies are able to recognize fraudulent credit card transactions so that customers are not charged for items that they did not purchase.\n",
    "\n",
    "\n",
    "The dataset contains transactions made by credit cards in September 2013 by European cardholders.\n",
    "This dataset presents transactions that occurred in two days, where we have 492 frauds out of 284,807 transactions. The dataset is highly unbalanced, the positive class (frauds) account for 0.172% of all transactions.\n",
    "\n",
    "It contains only numerical input variables which are the result of a PCA transformation. Unfortunately, due to confidentiality issues, we cannot provide the original features and more background information about the data. Features V1, V2, … V28 are the principal components obtained with PCA, the only features which have not been transformed with PCA are 'Time' and 'Amount'. Feature 'Time' contains the seconds elapsed between each transaction and the first transaction in the dataset. The feature 'Amount' is the transaction Amount, this feature can be used for example-dependant cost-sensitive learning. Feature 'Class' is the response variable and it takes value 1 in case of fraud and 0 otherwise.\n",
    "\n",
    "Given the class imbalance ratio, we recommend measuring the accuracy using the Area Under the Precision-Recall Curve (AUPRC). Confusion matrix accuracy is not meaningful for unbalanced classification."
   ]
  },
  {
   "cell_type": "markdown",
   "metadata": {
    "id": "iDC2epA5XXyk"
   },
   "source": [
    "### Data Analysis\n",
    "\n",
    "> **PANDAS :**\n",
    "> - **Reference link for Pandas :** https://pandas.pydata.org/docs/reference/index.html \n",
    "    - Pandas provide high performance, fast, easy to use data structures and data analysis tools for manipulating numeric data and time series. Pandas is built on the numpy library and written in languages like Python, Cython, and C. In pandas, we can import data from various file formats like JSON, SQL, Microsoft Excel, etc.\n",
    ">    \n",
    "**NUMPY:**\n",
    "> - **Reference link for Numpy :**  https://numpy.org/doc/stable/reference/\n",
    "       - It is the fundamental library of python, used to perform scientific computing. It provides high-performance multidimensional arrays and tools to deal with them. A numpy array is a grid of values (of the same type) that are indexed by a tuple of positive integers, numpy arrays are fast, easy to understand, and give users the right to perform calculations across arrays.\n",
    "       \n",
    "       \n",
    " ### Data Visualizations\n",
    " - Data Visualization is the graphic representation of data. It converts a huge dataset into small graphs, thus aids in data analysis and predictions\n",
    "       \n",
    "**MATPLOTLIB**\n",
    ">-**Reference link for Matplotlib :** https://scipy-lectures.org/intro/matplotlib/index.html\n",
    "- It is a Python library used for plotting graphs with the help of other libraries like Numpy and Pandas. It is a powerful tool for visualizing data in Python. It is used for creating statical interferences and plotting 2D graphs of arrays\n",
    "\n",
    "**SEABORN:**\n",
    "> - **Reference link for Seaborn :** https://seaborn.pydata.org/api.html\n",
    "- It is also a Python library used for plotting graphs with the help of Matplotlib, Pandas, and Numpy. It is built on the roof of Matplotlib and is considered as a superset of the Matplotlib library. It helps in visualizing univariate and bivariate data"
   ]
  },
  {
   "cell_type": "markdown",
   "metadata": {
    "id": "kRSlKR9zXXyl"
   },
   "source": [
    "#### Import the modules needed."
   ]
  },
  {
   "cell_type": "code",
   "execution_count": 1,
   "metadata": {
    "executionInfo": {
     "elapsed": 688,
     "status": "ok",
     "timestamp": 1629209865077,
     "user": {
      "displayName": "Madhav Jauhari",
      "photoUrl": "https://lh3.googleusercontent.com/a-/AOh14Gghbg8rb_f6ibKyinX6HSh3SIDBJelyamAMDxGC55Y=s64",
      "userId": "13105489007187997014"
     },
     "user_tz": -330
    },
    "id": "2zWWzdIvXXym"
   },
   "outputs": [],
   "source": [
    "# Import Pandas and NumPy\n",
    "\n",
    "\n",
    "# importing numpy be used as an efficient multi-dimensional container of generic data.\n",
    "import numpy as np  \n",
    "\n",
    "#importing pandas it allows you to perform data manipulation create, manipulate and wrangle the data in python.\n",
    "import pandas as pd\n",
    "\n",
    "\n",
    "#   ---------- # Visualizations---------\n",
    "\n",
    "# Import Libraries for plotting \n",
    "\n",
    "#Matplotlib is a Python 2D plotting library\n",
    "import matplotlib.pyplot as plt\n",
    "%matplotlib inline\n",
    "\n",
    "# Seaborn is high-level interface for drawing attractive and informative statistical graphics.\n",
    "import seaborn as sns\n",
    "\n",
    "\n",
    "# Supress Warnings\n",
    "import warnings\n",
    "warnings.filterwarnings('ignore')\n"
   ]
  },
  {
   "cell_type": "code",
   "execution_count": 5,
   "metadata": {
    "colab": {
     "background_save": true,
     "base_uri": "https://localhost:8080/",
     "height": 0,
     "resources": {
      "http://localhost:8080/nbextensions/google.colab/files.js": {
       "data": "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",
       "headers": [
        [
         "content-type",
         "application/javascript"
        ]
       ],
       "ok": true,
       "status": 200,
       "status_text": ""
      }
     }
    },
    "id": "9f8iSSqQXXym"
   },
   "outputs": [],
   "source": [
    "# Read the data of credit card fraud detection\n",
    "# Here file is CSV i.e Comma Seperated Values\n",
    "#df is a variable\n",
    "\n",
    "import io\n",
    "df = pd.read_csv(\"C:\\\\Users\\\\Khushali\\\\Downloads\\\\creditcard.csv\")\n",
    "\n"
   ]
  },
  {
   "cell_type": "markdown",
   "metadata": {
    "id": "_1B-dYTyXXyn"
   },
   "source": [
    "### EDA  (Exploratory Data Analysis) :\n",
    "- **head()**Understand your data using the head() function to look at the first few rows.\n",
    "- **shape()**Review the dimensions of your data with the shape property.\n",
    "- **info()**To know the information aboutvthe data\n",
    "- **Dtyes** Look at the data types for each attribute with the dtypes property.\n",
    "- **describe**Review the distribution of your data with the describe() function.\n",
    "- **Correlation** Calculate pairwise correlation between your variables using the corr() function."
   ]
  },
  {
   "cell_type": "code",
   "execution_count": 6,
   "metadata": {
    "executionInfo": {
     "elapsed": 1236,
     "status": "aborted",
     "timestamp": 1629217732872,
     "user": {
      "displayName": "Madhav Jauhari",
      "photoUrl": "https://lh3.googleusercontent.com/a-/AOh14Gghbg8rb_f6ibKyinX6HSh3SIDBJelyamAMDxGC55Y=s64",
      "userId": "13105489007187997014"
     },
     "user_tz": -330
    },
    "id": "PKSX_IX_XXyo"
   },
   "outputs": [
    {
     "data": {
      "text/html": [
       "<div>\n",
       "<style scoped>\n",
       "    .dataframe tbody tr th:only-of-type {\n",
       "        vertical-align: middle;\n",
       "    }\n",
       "\n",
       "    .dataframe tbody tr th {\n",
       "        vertical-align: top;\n",
       "    }\n",
       "\n",
       "    .dataframe thead th {\n",
       "        text-align: right;\n",
       "    }\n",
       "</style>\n",
       "<table border=\"1\" class=\"dataframe\">\n",
       "  <thead>\n",
       "    <tr style=\"text-align: right;\">\n",
       "      <th></th>\n",
       "      <th>Time</th>\n",
       "      <th>V1</th>\n",
       "      <th>V2</th>\n",
       "      <th>V3</th>\n",
       "      <th>V4</th>\n",
       "      <th>V5</th>\n",
       "      <th>V6</th>\n",
       "      <th>V7</th>\n",
       "      <th>V8</th>\n",
       "      <th>V9</th>\n",
       "      <th>...</th>\n",
       "      <th>V21</th>\n",
       "      <th>V22</th>\n",
       "      <th>V23</th>\n",
       "      <th>V24</th>\n",
       "      <th>V25</th>\n",
       "      <th>V26</th>\n",
       "      <th>V27</th>\n",
       "      <th>V28</th>\n",
       "      <th>Amount</th>\n",
       "      <th>Class</th>\n",
       "    </tr>\n",
       "  </thead>\n",
       "  <tbody>\n",
       "    <tr>\n",
       "      <th>0</th>\n",
       "      <td>0.0</td>\n",
       "      <td>-1.359807</td>\n",
       "      <td>-0.072781</td>\n",
       "      <td>2.536347</td>\n",
       "      <td>1.378155</td>\n",
       "      <td>-0.338321</td>\n",
       "      <td>0.462388</td>\n",
       "      <td>0.239599</td>\n",
       "      <td>0.098698</td>\n",
       "      <td>0.363787</td>\n",
       "      <td>...</td>\n",
       "      <td>-0.018307</td>\n",
       "      <td>0.277838</td>\n",
       "      <td>-0.110474</td>\n",
       "      <td>0.066928</td>\n",
       "      <td>0.128539</td>\n",
       "      <td>-0.189115</td>\n",
       "      <td>0.133558</td>\n",
       "      <td>-0.021053</td>\n",
       "      <td>149.62</td>\n",
       "      <td>0</td>\n",
       "    </tr>\n",
       "    <tr>\n",
       "      <th>1</th>\n",
       "      <td>0.0</td>\n",
       "      <td>1.191857</td>\n",
       "      <td>0.266151</td>\n",
       "      <td>0.166480</td>\n",
       "      <td>0.448154</td>\n",
       "      <td>0.060018</td>\n",
       "      <td>-0.082361</td>\n",
       "      <td>-0.078803</td>\n",
       "      <td>0.085102</td>\n",
       "      <td>-0.255425</td>\n",
       "      <td>...</td>\n",
       "      <td>-0.225775</td>\n",
       "      <td>-0.638672</td>\n",
       "      <td>0.101288</td>\n",
       "      <td>-0.339846</td>\n",
       "      <td>0.167170</td>\n",
       "      <td>0.125895</td>\n",
       "      <td>-0.008983</td>\n",
       "      <td>0.014724</td>\n",
       "      <td>2.69</td>\n",
       "      <td>0</td>\n",
       "    </tr>\n",
       "    <tr>\n",
       "      <th>2</th>\n",
       "      <td>1.0</td>\n",
       "      <td>-1.358354</td>\n",
       "      <td>-1.340163</td>\n",
       "      <td>1.773209</td>\n",
       "      <td>0.379780</td>\n",
       "      <td>-0.503198</td>\n",
       "      <td>1.800499</td>\n",
       "      <td>0.791461</td>\n",
       "      <td>0.247676</td>\n",
       "      <td>-1.514654</td>\n",
       "      <td>...</td>\n",
       "      <td>0.247998</td>\n",
       "      <td>0.771679</td>\n",
       "      <td>0.909412</td>\n",
       "      <td>-0.689281</td>\n",
       "      <td>-0.327642</td>\n",
       "      <td>-0.139097</td>\n",
       "      <td>-0.055353</td>\n",
       "      <td>-0.059752</td>\n",
       "      <td>378.66</td>\n",
       "      <td>0</td>\n",
       "    </tr>\n",
       "    <tr>\n",
       "      <th>3</th>\n",
       "      <td>1.0</td>\n",
       "      <td>-0.966272</td>\n",
       "      <td>-0.185226</td>\n",
       "      <td>1.792993</td>\n",
       "      <td>-0.863291</td>\n",
       "      <td>-0.010309</td>\n",
       "      <td>1.247203</td>\n",
       "      <td>0.237609</td>\n",
       "      <td>0.377436</td>\n",
       "      <td>-1.387024</td>\n",
       "      <td>...</td>\n",
       "      <td>-0.108300</td>\n",
       "      <td>0.005274</td>\n",
       "      <td>-0.190321</td>\n",
       "      <td>-1.175575</td>\n",
       "      <td>0.647376</td>\n",
       "      <td>-0.221929</td>\n",
       "      <td>0.062723</td>\n",
       "      <td>0.061458</td>\n",
       "      <td>123.50</td>\n",
       "      <td>0</td>\n",
       "    </tr>\n",
       "    <tr>\n",
       "      <th>4</th>\n",
       "      <td>2.0</td>\n",
       "      <td>-1.158233</td>\n",
       "      <td>0.877737</td>\n",
       "      <td>1.548718</td>\n",
       "      <td>0.403034</td>\n",
       "      <td>-0.407193</td>\n",
       "      <td>0.095921</td>\n",
       "      <td>0.592941</td>\n",
       "      <td>-0.270533</td>\n",
       "      <td>0.817739</td>\n",
       "      <td>...</td>\n",
       "      <td>-0.009431</td>\n",
       "      <td>0.798278</td>\n",
       "      <td>-0.137458</td>\n",
       "      <td>0.141267</td>\n",
       "      <td>-0.206010</td>\n",
       "      <td>0.502292</td>\n",
       "      <td>0.219422</td>\n",
       "      <td>0.215153</td>\n",
       "      <td>69.99</td>\n",
       "      <td>0</td>\n",
       "    </tr>\n",
       "  </tbody>\n",
       "</table>\n",
       "<p>5 rows × 31 columns</p>\n",
       "</div>"
      ],
      "text/plain": [
       "   Time        V1        V2        V3        V4        V5        V6        V7  \\\n",
       "0   0.0 -1.359807 -0.072781  2.536347  1.378155 -0.338321  0.462388  0.239599   \n",
       "1   0.0  1.191857  0.266151  0.166480  0.448154  0.060018 -0.082361 -0.078803   \n",
       "2   1.0 -1.358354 -1.340163  1.773209  0.379780 -0.503198  1.800499  0.791461   \n",
       "3   1.0 -0.966272 -0.185226  1.792993 -0.863291 -0.010309  1.247203  0.237609   \n",
       "4   2.0 -1.158233  0.877737  1.548718  0.403034 -0.407193  0.095921  0.592941   \n",
       "\n",
       "         V8        V9  ...       V21       V22       V23       V24       V25  \\\n",
       "0  0.098698  0.363787  ... -0.018307  0.277838 -0.110474  0.066928  0.128539   \n",
       "1  0.085102 -0.255425  ... -0.225775 -0.638672  0.101288 -0.339846  0.167170   \n",
       "2  0.247676 -1.514654  ...  0.247998  0.771679  0.909412 -0.689281 -0.327642   \n",
       "3  0.377436 -1.387024  ... -0.108300  0.005274 -0.190321 -1.175575  0.647376   \n",
       "4 -0.270533  0.817739  ... -0.009431  0.798278 -0.137458  0.141267 -0.206010   \n",
       "\n",
       "        V26       V27       V28  Amount  Class  \n",
       "0 -0.189115  0.133558 -0.021053  149.62      0  \n",
       "1  0.125895 -0.008983  0.014724    2.69      0  \n",
       "2 -0.139097 -0.055353 -0.059752  378.66      0  \n",
       "3 -0.221929  0.062723  0.061458  123.50      0  \n",
       "4  0.502292  0.219422  0.215153   69.99      0  \n",
       "\n",
       "[5 rows x 31 columns]"
      ]
     },
     "execution_count": 6,
     "metadata": {},
     "output_type": "execute_result"
    }
   ],
   "source": [
    "df.head()\n",
    "\n",
    "# Checking the first 5 entries of dataset"
   ]
  },
  {
   "cell_type": "markdown",
   "metadata": {
    "id": "WrlhNmVAXXyq"
   },
   "source": [
    "### info()\n",
    "> -This method prints information about a DataFrame including the index dtype and column dtypes, non-null values and memory usage"
   ]
  },
  {
   "cell_type": "code",
   "execution_count": 7,
   "metadata": {
    "executionInfo": {
     "elapsed": 1236,
     "status": "aborted",
     "timestamp": 1629217732874,
     "user": {
      "displayName": "Madhav Jauhari",
      "photoUrl": "https://lh3.googleusercontent.com/a-/AOh14Gghbg8rb_f6ibKyinX6HSh3SIDBJelyamAMDxGC55Y=s64",
      "userId": "13105489007187997014"
     },
     "user_tz": -330
    },
    "id": "Yl6veznZXXyr",
    "scrolled": true
   },
   "outputs": [
    {
     "name": "stdout",
     "output_type": "stream",
     "text": [
      "<class 'pandas.core.frame.DataFrame'>\n",
      "RangeIndex: 284807 entries, 0 to 284806\n",
      "Data columns (total 31 columns):\n",
      " #   Column  Non-Null Count   Dtype  \n",
      "---  ------  --------------   -----  \n",
      " 0   Time    284807 non-null  float64\n",
      " 1   V1      284807 non-null  float64\n",
      " 2   V2      284807 non-null  float64\n",
      " 3   V3      284807 non-null  float64\n",
      " 4   V4      284807 non-null  float64\n",
      " 5   V5      284807 non-null  float64\n",
      " 6   V6      284807 non-null  float64\n",
      " 7   V7      284807 non-null  float64\n",
      " 8   V8      284807 non-null  float64\n",
      " 9   V9      284807 non-null  float64\n",
      " 10  V10     284807 non-null  float64\n",
      " 11  V11     284807 non-null  float64\n",
      " 12  V12     284807 non-null  float64\n",
      " 13  V13     284807 non-null  float64\n",
      " 14  V14     284807 non-null  float64\n",
      " 15  V15     284807 non-null  float64\n",
      " 16  V16     284807 non-null  float64\n",
      " 17  V17     284807 non-null  float64\n",
      " 18  V18     284807 non-null  float64\n",
      " 19  V19     284807 non-null  float64\n",
      " 20  V20     284807 non-null  float64\n",
      " 21  V21     284807 non-null  float64\n",
      " 22  V22     284807 non-null  float64\n",
      " 23  V23     284807 non-null  float64\n",
      " 24  V24     284807 non-null  float64\n",
      " 25  V25     284807 non-null  float64\n",
      " 26  V26     284807 non-null  float64\n",
      " 27  V27     284807 non-null  float64\n",
      " 28  V28     284807 non-null  float64\n",
      " 29  Amount  284807 non-null  float64\n",
      " 30  Class   284807 non-null  int64  \n",
      "dtypes: float64(30), int64(1)\n",
      "memory usage: 67.4 MB\n"
     ]
    }
   ],
   "source": [
    "# # To know the information of the dataset\n",
    "\n",
    "df.info()"
   ]
  },
  {
   "cell_type": "markdown",
   "metadata": {
    "id": "RHdiDvr0XXyr"
   },
   "source": [
    "#### Note\n",
    "- By understanding the info() , we can say that all the columns are float type expect class column\n",
    "- there is no null values are present, we can check the memory usage i.e 67.4 MB"
   ]
  },
  {
   "cell_type": "code",
   "execution_count": 8,
   "metadata": {
    "executionInfo": {
     "elapsed": 1236,
     "status": "aborted",
     "timestamp": 1629217732875,
     "user": {
      "displayName": "Madhav Jauhari",
      "photoUrl": "https://lh3.googleusercontent.com/a-/AOh14Gghbg8rb_f6ibKyinX6HSh3SIDBJelyamAMDxGC55Y=s64",
      "userId": "13105489007187997014"
     },
     "user_tz": -330
    },
    "id": "Ap2frMy8XXys"
   },
   "outputs": [
    {
     "name": "stdout",
     "output_type": "stream",
     "text": [
      "There are 284807 rows and 31 columns are present in the Data Set\n"
     ]
    }
   ],
   "source": [
    "print(\"There are {} rows and {} columns are present in the Data Set\".format(df.shape[0],df.shape[1]))\n",
    "\n",
    "#printing the rows and columns "
   ]
  },
  {
   "cell_type": "markdown",
   "metadata": {
    "id": "OABBSNwkXXys"
   },
   "source": [
    "#### Describe()\n",
    "> **describe() is used to view some basic statistical details like percentile, mean, std etc. of a data frame or a series of numeric values.**"
   ]
  },
  {
   "cell_type": "code",
   "execution_count": 9,
   "metadata": {
    "executionInfo": {
     "elapsed": 1236,
     "status": "aborted",
     "timestamp": 1629217732876,
     "user": {
      "displayName": "Madhav Jauhari",
      "photoUrl": "https://lh3.googleusercontent.com/a-/AOh14Gghbg8rb_f6ibKyinX6HSh3SIDBJelyamAMDxGC55Y=s64",
      "userId": "13105489007187997014"
     },
     "user_tz": -330
    },
    "id": "dCZNJCC6XXys"
   },
   "outputs": [
    {
     "data": {
      "text/html": [
       "<div>\n",
       "<style scoped>\n",
       "    .dataframe tbody tr th:only-of-type {\n",
       "        vertical-align: middle;\n",
       "    }\n",
       "\n",
       "    .dataframe tbody tr th {\n",
       "        vertical-align: top;\n",
       "    }\n",
       "\n",
       "    .dataframe thead th {\n",
       "        text-align: right;\n",
       "    }\n",
       "</style>\n",
       "<table border=\"1\" class=\"dataframe\">\n",
       "  <thead>\n",
       "    <tr style=\"text-align: right;\">\n",
       "      <th></th>\n",
       "      <th>Time</th>\n",
       "      <th>V1</th>\n",
       "      <th>V2</th>\n",
       "      <th>V3</th>\n",
       "      <th>V4</th>\n",
       "      <th>V5</th>\n",
       "      <th>V6</th>\n",
       "      <th>V7</th>\n",
       "      <th>V8</th>\n",
       "      <th>V9</th>\n",
       "      <th>...</th>\n",
       "      <th>V21</th>\n",
       "      <th>V22</th>\n",
       "      <th>V23</th>\n",
       "      <th>V24</th>\n",
       "      <th>V25</th>\n",
       "      <th>V26</th>\n",
       "      <th>V27</th>\n",
       "      <th>V28</th>\n",
       "      <th>Amount</th>\n",
       "      <th>Class</th>\n",
       "    </tr>\n",
       "  </thead>\n",
       "  <tbody>\n",
       "    <tr>\n",
       "      <th>count</th>\n",
       "      <td>284807.000000</td>\n",
       "      <td>2.848070e+05</td>\n",
       "      <td>2.848070e+05</td>\n",
       "      <td>2.848070e+05</td>\n",
       "      <td>2.848070e+05</td>\n",
       "      <td>2.848070e+05</td>\n",
       "      <td>2.848070e+05</td>\n",
       "      <td>2.848070e+05</td>\n",
       "      <td>2.848070e+05</td>\n",
       "      <td>2.848070e+05</td>\n",
       "      <td>...</td>\n",
       "      <td>2.848070e+05</td>\n",
       "      <td>2.848070e+05</td>\n",
       "      <td>2.848070e+05</td>\n",
       "      <td>2.848070e+05</td>\n",
       "      <td>2.848070e+05</td>\n",
       "      <td>2.848070e+05</td>\n",
       "      <td>2.848070e+05</td>\n",
       "      <td>2.848070e+05</td>\n",
       "      <td>284807.000000</td>\n",
       "      <td>284807.000000</td>\n",
       "    </tr>\n",
       "    <tr>\n",
       "      <th>mean</th>\n",
       "      <td>94813.859575</td>\n",
       "      <td>3.918649e-15</td>\n",
       "      <td>5.682686e-16</td>\n",
       "      <td>-8.761736e-15</td>\n",
       "      <td>2.811118e-15</td>\n",
       "      <td>-1.552103e-15</td>\n",
       "      <td>2.040130e-15</td>\n",
       "      <td>-1.698953e-15</td>\n",
       "      <td>-1.893285e-16</td>\n",
       "      <td>-3.147640e-15</td>\n",
       "      <td>...</td>\n",
       "      <td>1.473120e-16</td>\n",
       "      <td>8.042109e-16</td>\n",
       "      <td>5.282512e-16</td>\n",
       "      <td>4.456271e-15</td>\n",
       "      <td>1.426896e-15</td>\n",
       "      <td>1.701640e-15</td>\n",
       "      <td>-3.662252e-16</td>\n",
       "      <td>-1.217809e-16</td>\n",
       "      <td>88.349619</td>\n",
       "      <td>0.001727</td>\n",
       "    </tr>\n",
       "    <tr>\n",
       "      <th>std</th>\n",
       "      <td>47488.145955</td>\n",
       "      <td>1.958696e+00</td>\n",
       "      <td>1.651309e+00</td>\n",
       "      <td>1.516255e+00</td>\n",
       "      <td>1.415869e+00</td>\n",
       "      <td>1.380247e+00</td>\n",
       "      <td>1.332271e+00</td>\n",
       "      <td>1.237094e+00</td>\n",
       "      <td>1.194353e+00</td>\n",
       "      <td>1.098632e+00</td>\n",
       "      <td>...</td>\n",
       "      <td>7.345240e-01</td>\n",
       "      <td>7.257016e-01</td>\n",
       "      <td>6.244603e-01</td>\n",
       "      <td>6.056471e-01</td>\n",
       "      <td>5.212781e-01</td>\n",
       "      <td>4.822270e-01</td>\n",
       "      <td>4.036325e-01</td>\n",
       "      <td>3.300833e-01</td>\n",
       "      <td>250.120109</td>\n",
       "      <td>0.041527</td>\n",
       "    </tr>\n",
       "    <tr>\n",
       "      <th>min</th>\n",
       "      <td>0.000000</td>\n",
       "      <td>-5.640751e+01</td>\n",
       "      <td>-7.271573e+01</td>\n",
       "      <td>-4.832559e+01</td>\n",
       "      <td>-5.683171e+00</td>\n",
       "      <td>-1.137433e+02</td>\n",
       "      <td>-2.616051e+01</td>\n",
       "      <td>-4.355724e+01</td>\n",
       "      <td>-7.321672e+01</td>\n",
       "      <td>-1.343407e+01</td>\n",
       "      <td>...</td>\n",
       "      <td>-3.483038e+01</td>\n",
       "      <td>-1.093314e+01</td>\n",
       "      <td>-4.480774e+01</td>\n",
       "      <td>-2.836627e+00</td>\n",
       "      <td>-1.029540e+01</td>\n",
       "      <td>-2.604551e+00</td>\n",
       "      <td>-2.256568e+01</td>\n",
       "      <td>-1.543008e+01</td>\n",
       "      <td>0.000000</td>\n",
       "      <td>0.000000</td>\n",
       "    </tr>\n",
       "    <tr>\n",
       "      <th>25%</th>\n",
       "      <td>54201.500000</td>\n",
       "      <td>-9.203734e-01</td>\n",
       "      <td>-5.985499e-01</td>\n",
       "      <td>-8.903648e-01</td>\n",
       "      <td>-8.486401e-01</td>\n",
       "      <td>-6.915971e-01</td>\n",
       "      <td>-7.682956e-01</td>\n",
       "      <td>-5.540759e-01</td>\n",
       "      <td>-2.086297e-01</td>\n",
       "      <td>-6.430976e-01</td>\n",
       "      <td>...</td>\n",
       "      <td>-2.283949e-01</td>\n",
       "      <td>-5.423504e-01</td>\n",
       "      <td>-1.618463e-01</td>\n",
       "      <td>-3.545861e-01</td>\n",
       "      <td>-3.171451e-01</td>\n",
       "      <td>-3.269839e-01</td>\n",
       "      <td>-7.083953e-02</td>\n",
       "      <td>-5.295979e-02</td>\n",
       "      <td>5.600000</td>\n",
       "      <td>0.000000</td>\n",
       "    </tr>\n",
       "    <tr>\n",
       "      <th>50%</th>\n",
       "      <td>84692.000000</td>\n",
       "      <td>1.810880e-02</td>\n",
       "      <td>6.548556e-02</td>\n",
       "      <td>1.798463e-01</td>\n",
       "      <td>-1.984653e-02</td>\n",
       "      <td>-5.433583e-02</td>\n",
       "      <td>-2.741871e-01</td>\n",
       "      <td>4.010308e-02</td>\n",
       "      <td>2.235804e-02</td>\n",
       "      <td>-5.142873e-02</td>\n",
       "      <td>...</td>\n",
       "      <td>-2.945017e-02</td>\n",
       "      <td>6.781943e-03</td>\n",
       "      <td>-1.119293e-02</td>\n",
       "      <td>4.097606e-02</td>\n",
       "      <td>1.659350e-02</td>\n",
       "      <td>-5.213911e-02</td>\n",
       "      <td>1.342146e-03</td>\n",
       "      <td>1.124383e-02</td>\n",
       "      <td>22.000000</td>\n",
       "      <td>0.000000</td>\n",
       "    </tr>\n",
       "    <tr>\n",
       "      <th>75%</th>\n",
       "      <td>139320.500000</td>\n",
       "      <td>1.315642e+00</td>\n",
       "      <td>8.037239e-01</td>\n",
       "      <td>1.027196e+00</td>\n",
       "      <td>7.433413e-01</td>\n",
       "      <td>6.119264e-01</td>\n",
       "      <td>3.985649e-01</td>\n",
       "      <td>5.704361e-01</td>\n",
       "      <td>3.273459e-01</td>\n",
       "      <td>5.971390e-01</td>\n",
       "      <td>...</td>\n",
       "      <td>1.863772e-01</td>\n",
       "      <td>5.285536e-01</td>\n",
       "      <td>1.476421e-01</td>\n",
       "      <td>4.395266e-01</td>\n",
       "      <td>3.507156e-01</td>\n",
       "      <td>2.409522e-01</td>\n",
       "      <td>9.104512e-02</td>\n",
       "      <td>7.827995e-02</td>\n",
       "      <td>77.165000</td>\n",
       "      <td>0.000000</td>\n",
       "    </tr>\n",
       "    <tr>\n",
       "      <th>max</th>\n",
       "      <td>172792.000000</td>\n",
       "      <td>2.454930e+00</td>\n",
       "      <td>2.205773e+01</td>\n",
       "      <td>9.382558e+00</td>\n",
       "      <td>1.687534e+01</td>\n",
       "      <td>3.480167e+01</td>\n",
       "      <td>7.330163e+01</td>\n",
       "      <td>1.205895e+02</td>\n",
       "      <td>2.000721e+01</td>\n",
       "      <td>1.559499e+01</td>\n",
       "      <td>...</td>\n",
       "      <td>2.720284e+01</td>\n",
       "      <td>1.050309e+01</td>\n",
       "      <td>2.252841e+01</td>\n",
       "      <td>4.584549e+00</td>\n",
       "      <td>7.519589e+00</td>\n",
       "      <td>3.517346e+00</td>\n",
       "      <td>3.161220e+01</td>\n",
       "      <td>3.384781e+01</td>\n",
       "      <td>25691.160000</td>\n",
       "      <td>1.000000</td>\n",
       "    </tr>\n",
       "  </tbody>\n",
       "</table>\n",
       "<p>8 rows × 31 columns</p>\n",
       "</div>"
      ],
      "text/plain": [
       "                Time            V1            V2            V3            V4  \\\n",
       "count  284807.000000  2.848070e+05  2.848070e+05  2.848070e+05  2.848070e+05   \n",
       "mean    94813.859575  3.918649e-15  5.682686e-16 -8.761736e-15  2.811118e-15   \n",
       "std     47488.145955  1.958696e+00  1.651309e+00  1.516255e+00  1.415869e+00   \n",
       "min         0.000000 -5.640751e+01 -7.271573e+01 -4.832559e+01 -5.683171e+00   \n",
       "25%     54201.500000 -9.203734e-01 -5.985499e-01 -8.903648e-01 -8.486401e-01   \n",
       "50%     84692.000000  1.810880e-02  6.548556e-02  1.798463e-01 -1.984653e-02   \n",
       "75%    139320.500000  1.315642e+00  8.037239e-01  1.027196e+00  7.433413e-01   \n",
       "max    172792.000000  2.454930e+00  2.205773e+01  9.382558e+00  1.687534e+01   \n",
       "\n",
       "                 V5            V6            V7            V8            V9  \\\n",
       "count  2.848070e+05  2.848070e+05  2.848070e+05  2.848070e+05  2.848070e+05   \n",
       "mean  -1.552103e-15  2.040130e-15 -1.698953e-15 -1.893285e-16 -3.147640e-15   \n",
       "std    1.380247e+00  1.332271e+00  1.237094e+00  1.194353e+00  1.098632e+00   \n",
       "min   -1.137433e+02 -2.616051e+01 -4.355724e+01 -7.321672e+01 -1.343407e+01   \n",
       "25%   -6.915971e-01 -7.682956e-01 -5.540759e-01 -2.086297e-01 -6.430976e-01   \n",
       "50%   -5.433583e-02 -2.741871e-01  4.010308e-02  2.235804e-02 -5.142873e-02   \n",
       "75%    6.119264e-01  3.985649e-01  5.704361e-01  3.273459e-01  5.971390e-01   \n",
       "max    3.480167e+01  7.330163e+01  1.205895e+02  2.000721e+01  1.559499e+01   \n",
       "\n",
       "       ...           V21           V22           V23           V24  \\\n",
       "count  ...  2.848070e+05  2.848070e+05  2.848070e+05  2.848070e+05   \n",
       "mean   ...  1.473120e-16  8.042109e-16  5.282512e-16  4.456271e-15   \n",
       "std    ...  7.345240e-01  7.257016e-01  6.244603e-01  6.056471e-01   \n",
       "min    ... -3.483038e+01 -1.093314e+01 -4.480774e+01 -2.836627e+00   \n",
       "25%    ... -2.283949e-01 -5.423504e-01 -1.618463e-01 -3.545861e-01   \n",
       "50%    ... -2.945017e-02  6.781943e-03 -1.119293e-02  4.097606e-02   \n",
       "75%    ...  1.863772e-01  5.285536e-01  1.476421e-01  4.395266e-01   \n",
       "max    ...  2.720284e+01  1.050309e+01  2.252841e+01  4.584549e+00   \n",
       "\n",
       "                V25           V26           V27           V28         Amount  \\\n",
       "count  2.848070e+05  2.848070e+05  2.848070e+05  2.848070e+05  284807.000000   \n",
       "mean   1.426896e-15  1.701640e-15 -3.662252e-16 -1.217809e-16      88.349619   \n",
       "std    5.212781e-01  4.822270e-01  4.036325e-01  3.300833e-01     250.120109   \n",
       "min   -1.029540e+01 -2.604551e+00 -2.256568e+01 -1.543008e+01       0.000000   \n",
       "25%   -3.171451e-01 -3.269839e-01 -7.083953e-02 -5.295979e-02       5.600000   \n",
       "50%    1.659350e-02 -5.213911e-02  1.342146e-03  1.124383e-02      22.000000   \n",
       "75%    3.507156e-01  2.409522e-01  9.104512e-02  7.827995e-02      77.165000   \n",
       "max    7.519589e+00  3.517346e+00  3.161220e+01  3.384781e+01   25691.160000   \n",
       "\n",
       "               Class  \n",
       "count  284807.000000  \n",
       "mean        0.001727  \n",
       "std         0.041527  \n",
       "min         0.000000  \n",
       "25%         0.000000  \n",
       "50%         0.000000  \n",
       "75%         0.000000  \n",
       "max         1.000000  \n",
       "\n",
       "[8 rows x 31 columns]"
      ]
     },
     "execution_count": 9,
     "metadata": {},
     "output_type": "execute_result"
    }
   ],
   "source": [
    "df.describe()\n",
    "##describe() is used to view some basic statistical details like percentile, mean, std etc. of a data frame or a series of numeric values."
   ]
  },
  {
   "cell_type": "markdown",
   "metadata": {
    "id": "Kh-i6W0bXXyt"
   },
   "source": [
    "## Handling Missing Values\n",
    "\n",
    "- There are broadly divide into two ways to treat missing values\n",
    "- 1. Delete --> Delete the missing values\n",
    "\n",
    "- 2.impute --> \n",
    ">- imputting by a simple static: Replace the missing values by another value according to MEAN,MEDIAN,MODE\n",
    ">- Predictive Techniques: Use statitical models such as K-NN,SVM etc to predict and replace missing values\n",
    "> fillna\n",
    "\n",
    "\n",
    "- otherwise deletion is often safer and recongineed . You may loose data but will not make false predections\n",
    "- Caution : Always have backup of the orginal data .if you are deleting missing values\n"
   ]
  },
  {
   "cell_type": "code",
   "execution_count": 10,
   "metadata": {
    "executionInfo": {
     "elapsed": 1236,
     "status": "aborted",
     "timestamp": 1629217732877,
     "user": {
      "displayName": "Madhav Jauhari",
      "photoUrl": "https://lh3.googleusercontent.com/a-/AOh14Gghbg8rb_f6ibKyinX6HSh3SIDBJelyamAMDxGC55Y=s64",
      "userId": "13105489007187997014"
     },
     "user_tz": -330
    },
    "id": "RNAqMnsVXXyt"
   },
   "outputs": [
    {
     "data": {
      "text/plain": [
       "Time      0\n",
       "V1        0\n",
       "V2        0\n",
       "V3        0\n",
       "V4        0\n",
       "V5        0\n",
       "V6        0\n",
       "V7        0\n",
       "V8        0\n",
       "V9        0\n",
       "V10       0\n",
       "V11       0\n",
       "V12       0\n",
       "V13       0\n",
       "V14       0\n",
       "V15       0\n",
       "V16       0\n",
       "V17       0\n",
       "V18       0\n",
       "V19       0\n",
       "V20       0\n",
       "V21       0\n",
       "V22       0\n",
       "V23       0\n",
       "V24       0\n",
       "V25       0\n",
       "V26       0\n",
       "V27       0\n",
       "V28       0\n",
       "Amount    0\n",
       "Class     0\n",
       "dtype: int64"
      ]
     },
     "execution_count": 10,
     "metadata": {},
     "output_type": "execute_result"
    }
   ],
   "source": [
    "df.isnull().sum()\n",
    "\n",
    "##isnull(). sum() returns the number of missing values in the data set."
   ]
  },
  {
   "cell_type": "markdown",
   "metadata": {
    "id": "4edImG02XXyt"
   },
   "source": [
    "### Bar Graph :  \n",
    "> **Reference link for Bar Graph :** https://matplotlib.org/stable/api/_as_gen/matplotlib.pyplot.bar.html\n",
    "- Bar graph that plots data using rectangular bars or columns (called bins) that represent the total amount of observations in the data for that category.\n",
    "- We can draw in the form of vertical or horizontal rectangular bars.\n",
    "- It shows the relationship using two axes, in which the categories on one axis and the discrete values on the other axis."
   ]
  },
  {
   "cell_type": "markdown",
   "metadata": {
    "id": "d43J7seOXXyt"
   },
   "source": [
    "#### missingo \n",
    "> - **Reference link for missingo :** https://pypi.org/project/missingno/\n",
    "- To understand the distribution of missing values through informative visualization"
   ]
  },
  {
   "cell_type": "code",
   "execution_count": 12,
   "metadata": {
    "executionInfo": {
     "elapsed": 1237,
     "status": "aborted",
     "timestamp": 1629217732878,
     "user": {
      "displayName": "Madhav Jauhari",
      "photoUrl": "https://lh3.googleusercontent.com/a-/AOh14Gghbg8rb_f6ibKyinX6HSh3SIDBJelyamAMDxGC55Y=s64",
      "userId": "13105489007187997014"
     },
     "user_tz": -330
    },
    "id": "P_DFx_2pXXyu"
   },
   "outputs": [
    {
     "data": {
      "image/png": "[encoded data removed]",
      "text/plain": [
       "<Figure size 1728x720 with 3 Axes>"
      ]
     },
     "metadata": {
      "needs_background": "light"
     },
     "output_type": "display_data"
    }
   ],
   "source": [
    "#visualizing the null values for each attribute\n",
    "\n",
    "\n",
    "import missingno as msno\n",
    "\n",
    "#msgo ---->  It's also the name of a Python library for the exploratory visualization of missing data.\n",
    "\n",
    "msno.bar(df)\n",
    "#ploting the bar graph\n",
    "\n",
    "plt.show()\n",
    "#Show the image"
   ]
  },
  {
   "cell_type": "markdown",
   "metadata": {
    "id": "nEjZJklxXXyu"
   },
   "source": [
    "#### Note :\n",
    ">- There are no missing values in the credit card data set"
   ]
  },
  {
   "cell_type": "code",
   "execution_count": 13,
   "metadata": {
    "executionInfo": {
     "elapsed": 1240,
     "status": "aborted",
     "timestamp": 1629217732881,
     "user": {
      "displayName": "Madhav Jauhari",
      "photoUrl": "https://lh3.googleusercontent.com/a-/AOh14Gghbg8rb_f6ibKyinX6HSh3SIDBJelyamAMDxGC55Y=s64",
      "userId": "13105489007187997014"
     },
     "user_tz": -330
    },
    "id": "iqzBnD8JXXyu"
   },
   "outputs": [
    {
     "data": {
      "text/plain": [
       "Index(['Time', 'V1', 'V2', 'V3', 'V4', 'V5', 'V6', 'V7', 'V8', 'V9', 'V10',\n",
       "       'V11', 'V12', 'V13', 'V14', 'V15', 'V16', 'V17', 'V18', 'V19', 'V20',\n",
       "       'V21', 'V22', 'V23', 'V24', 'V25', 'V26', 'V27', 'V28', 'Amount',\n",
       "       'Class'],\n",
       "      dtype='object')"
      ]
     },
     "execution_count": 13,
     "metadata": {},
     "output_type": "execute_result"
    }
   ],
   "source": [
    "df.columns\n",
    "# To check what are the columns are present in the dataset"
   ]
  },
  {
   "cell_type": "code",
   "execution_count": 14,
   "metadata": {
    "executionInfo": {
     "elapsed": 1244,
     "status": "aborted",
     "timestamp": 1629217732885,
     "user": {
      "displayName": "Madhav Jauhari",
      "photoUrl": "https://lh3.googleusercontent.com/a-/AOh14Gghbg8rb_f6ibKyinX6HSh3SIDBJelyamAMDxGC55Y=s64",
      "userId": "13105489007187997014"
     },
     "user_tz": -330
    },
    "id": "YXk_Km09XXyu"
   },
   "outputs": [],
   "source": [
    "#creating a variable called lst\n",
    "# creting a list (Name of variable is lst)\n",
    "lst=['Time', 'V1', 'V2', 'V3', 'V4', 'V5', 'V6', 'V7', 'V8', 'V9', 'V10',\n",
    "       'V11', 'V12', 'V13', 'V14', 'V15', 'V16', 'V17', 'V18', 'V19', 'V20',\n",
    "       'V21', 'V22', 'V23', 'V24', 'V25', 'V26', 'V27', 'V28', 'Amount',\n",
    "       'Class']"
   ]
  },
  {
   "cell_type": "markdown",
   "metadata": {
    "id": "jnmPKSmjXXyv"
   },
   "source": [
    "#### Histogram\n",
    "> - **Refrence link for Histogram is :** https://matplotlib.org/stable/api/_as_gen/matplotlib.pyplot.hist.html\n",
    "- A histogram is a graphical representation of the distribution of data given by the user.\n",
    "- Its appearance is similar to Bar-Graph except it is continuous.\n",
    "- The towers or bars of a histogram are called bins.\n",
    "- The height of each bin shows how many values from that data fall into that range. \n",
    "\n",
    "\n",
    "> **Skewed**\n",
    "-  These distributions are sometimes called asymmetric or asymmetrical distributions as they don’t show any kind of symmetry. \n",
    "- Symmetry means that one half of the distribution is a mirror image of the other half.\n",
    "- For example, the normal distribution is a symmetric distribution with no skew. The tails are exactly the same.\n",
    "> \n",
    "\n",
    "\n",
    "#### Normal Distribution\n",
    "- A normal distribution, sometimes called the bell curve.\n",
    "-  The bell curve is symmetrical. Half of the data will fall to the left of the mean; half will fall to the right.\n",
    "- The mean, mode and median are all equal.\n",
    "- The curve is symmetric at the center (i.e. around the mean, μ).\n",
    "- Exactly half of the values are to the left of center and exactly half the values are to the right.\n",
    "- The total area under the curve is 1.\n",
    "- The Standard Normal Model\n",
    "- A standard normal model is a normal distribution with a mean of 0 and a standard deviation of 1.\n",
    "\n",
    "![normal-distribution-probability.jpg](attachment:normal-distribution-probability.jpg)\n",
    "\n",
    ">**Left side skewd**\n",
    "- A left-skewed distribution has a long left tail.\n",
    "- Left-skewed distributions are also called negatively-skewed distributions. \n",
    "- That’s because there is a long tail in the negative direction on the number line. \n",
    "- The mean is also to the left of the peak.\n",
    "![left-skewed.jpg](attachment:left-skewed.jpg)\n",
    ">\n",
    "\n",
    ">**Right side skewd**\n",
    "- A right-skewed distribution has a long right tail. \n",
    "- Right-skewed distributions are also called positive-skew distributions. \n",
    "- That’s because there is a long tail in the positive direction on the number line. \n",
    "- The mean is also to the right of the peak.\n",
    "![right-skewed.jpg](attachment:right-skewed.jpg)\n",
    "> Clearly can uderstand diff on left skewd vs right skewd\n",
    "![pearson-mode-skewness.jpg](attachment:pearson-mode-skewness.jpg)\n"
   ]
  },
  {
   "cell_type": "code",
   "execution_count": 15,
   "metadata": {
    "executionInfo": {
     "elapsed": 1249,
     "status": "aborted",
     "timestamp": 1629217732890,
     "user": {
      "displayName": "Madhav Jauhari",
      "photoUrl": "https://lh3.googleusercontent.com/a-/AOh14Gghbg8rb_f6ibKyinX6HSh3SIDBJelyamAMDxGC55Y=s64",
      "userId": "13105489007187997014"
     },
     "user_tz": -330
    },
    "id": "eq7Vk1-VXXyv",
    "scrolled": true
   },
   "outputs": [
    {
     "data": {
      "image/png": "[encoded data removed]",
      "text/plain": [
       "<Figure size 720x432 with 1 Axes>"
      ]
     },
     "metadata": {
      "needs_background": "light"
     },
     "output_type": "display_data"
    },
    {
     "data": {
      "image/png": "[encoded data removed]",
      "text/plain": [
       "<Figure size 720x432 with 1 Axes>"
      ]
     },
     "metadata": {
      "needs_background": "light"
     },
     "output_type": "display_data"
    },
    {
     "data": {
      "image/png": "[encoded data removed]",
      "text/plain": [
       "<Figure size 720x432 with 1 Axes>"
      ]
     },
     "metadata": {
      "needs_background": "light"
     },
     "output_type": "display_data"
    },
    {
     "data": {
      "image/png": "[encoded data removed]",
      "text/plain": [
       "<Figure size 720x432 with 1 Axes>"
      ]
     },
     "metadata": {
      "needs_background": "light"
     },
     "output_type": "display_data"
    },
    {
     "data": {
      "image/png": "[encoded data removed]",
      "text/plain": [
       "<Figure size 720x432 with 1 Axes>"
      ]
     },
     "metadata": {
      "needs_background": "light"
     },
     "output_type": "display_data"
    },
    {
     "data": {
      "image/png": "[encoded data removed]",
      "text/plain": [
       "<Figure size 720x432 with 1 Axes>"
      ]
     },
     "metadata": {
      "needs_background": "light"
     },
     "output_type": "display_data"
    },
    {
     "data": {
      "image/png": "[encoded data removed]",
      "text/plain": [
       "<Figure size 720x432 with 1 Axes>"
      ]
     },
     "metadata": {
      "needs_background": "light"
     },
     "output_type": "display_data"
    },
    {
     "data": {
      "image/png": "[encoded data removed]",
      "text/plain": [
       "<Figure size 720x432 with 1 Axes>"
      ]
     },
     "metadata": {
      "needs_background": "light"
     },
     "output_type": "display_data"
    },
    {
     "data": {
      "image/png": "[encoded data removed]",
      "text/plain": [
       "<Figure size 720x432 with 1 Axes>"
      ]
     },
     "metadata": {
      "needs_background": "light"
     },
     "output_type": "display_data"
    },
    {
     "data": {
      "image/png": "[encoded data removed]",
      "text/plain": [
       "<Figure size 720x432 with 1 Axes>"
      ]
     },
     "metadata": {
      "needs_background": "light"
     },
     "output_type": "display_data"
    },
    {
     "data": {
      "image/png": "[encoded data removed]",
      "text/plain": [
       "<Figure size 720x432 with 1 Axes>"
      ]
     },
     "metadata": {
      "needs_background": "light"
     },
     "output_type": "display_data"
    },
    {
     "data": {
      "image/png": "[encoded data removed]",
      "text/plain": [
       "<Figure size 720x432 with 1 Axes>"
      ]
     },
     "metadata": {
      "needs_background": "light"
     },
     "output_type": "display_data"
    },
    {
     "data": {
      "image/png": "[encoded data removed]",
      "text/plain": [
       "<Figure size 720x432 with 1 Axes>"
      ]
     },
     "metadata": {
      "needs_background": "light"
     },
     "output_type": "display_data"
    },
    {
     "data": {
      "image/png": "[encoded data removed]",
      "text/plain": [
       "<Figure size 720x432 with 1 Axes>"
      ]
     },
     "metadata": {
      "needs_background": "light"
     },
     "output_type": "display_data"
    },
    {
     "data": {
      "image/png": "[encoded data removed]",
      "text/plain": [
       "<Figure size 720x432 with 1 Axes>"
      ]
     },
     "metadata": {
      "needs_background": "light"
     },
     "output_type": "display_data"
    },
    {
     "data": {
      "image/png": "[encoded data removed]",
      "text/plain": [
       "<Figure size 720x432 with 1 Axes>"
      ]
     },
     "metadata": {
      "needs_background": "light"
     },
     "output_type": "display_data"
    },
    {
     "data": {
      "image/png": "[encoded data removed]",
      "text/plain": [
       "<Figure size 720x432 with 1 Axes>"
      ]
     },
     "metadata": {
      "needs_background": "light"
     },
     "output_type": "display_data"
    },
    {
     "data": {
      "image/png": "[encoded data removed]",
      "text/plain": [
       "<Figure size 720x432 with 1 Axes>"
      ]
     },
     "metadata": {
      "needs_background": "light"
     },
     "output_type": "display_data"
    },
    {
     "data": {
      "image/png": "[encoded data removed]",
      "text/plain": [
       "<Figure size 720x432 with 1 Axes>"
      ]
     },
     "metadata": {
      "needs_background": "light"
     },
     "output_type": "display_data"
    },
    {
     "data": {
      "image/png": "[encoded data removed]",
      "text/plain": [
       "<Figure size 720x432 with 1 Axes>"
      ]
     },
     "metadata": {
      "needs_background": "light"
     },
     "output_type": "display_data"
    },
    {
     "data": {
      "image/png": "[encoded data removed]",
      "text/plain": [
       "<Figure size 720x432 with 1 Axes>"
      ]
     },
     "metadata": {
      "needs_background": "light"
     },
     "output_type": "display_data"
    },
    {
     "data": {
      "image/png": "[encoded data removed]",
      "text/plain": [
       "<Figure size 720x432 with 1 Axes>"
      ]
     },
     "metadata": {
      "needs_background": "light"
     },
     "output_type": "display_data"
    },
    {
     "data": {
      "image/png": "[encoded data removed]",
      "text/plain": [
       "<Figure size 720x432 with 1 Axes>"
      ]
     },
     "metadata": {
      "needs_background": "light"
     },
     "output_type": "display_data"
    },
    {
     "data": {
      "image/png": "[encoded data removed]",
      "text/plain": [
       "<Figure size 720x432 with 1 Axes>"
      ]
     },
     "metadata": {
      "needs_background": "light"
     },
     "output_type": "display_data"
    },
    {
     "data": {
      "image/png": "[encoded data removed]",
      "text/plain": [
       "<Figure size 720x432 with 1 Axes>"
      ]
     },
     "metadata": {
      "needs_background": "light"
     },
     "output_type": "display_data"
    },
    {
     "data": {
      "image/png": "[encoded data removed]",
      "text/plain": [
       "<Figure size 720x432 with 1 Axes>"
      ]
     },
     "metadata": {
      "needs_background": "light"
     },
     "output_type": "display_data"
    },
    {
     "data": {
      "image/png": "[encoded data removed]",
      "text/plain": [
       "<Figure size 720x432 with 1 Axes>"
      ]
     },
     "metadata": {
      "needs_background": "light"
     },
     "output_type": "display_data"
    },
    {
     "data": {
      "image/png": "[encoded data removed]",
      "text/plain": [
       "<Figure size 720x432 with 1 Axes>"
      ]
     },
     "metadata": {
      "needs_background": "light"
     },
     "output_type": "display_data"
    },
    {
     "data": {
      "image/png": "[encoded data removed]",
      "text/plain": [
       "<Figure size 720x432 with 1 Axes>"
      ]
     },
     "metadata": {
      "needs_background": "light"
     },
     "output_type": "display_data"
    },
    {
     "data": {
      "image/png": "[encoded data removed]",
      "text/plain": [
       "<Figure size 720x432 with 1 Axes>"
      ]
     },
     "metadata": {
      "needs_background": "light"
     },
     "output_type": "display_data"
    }
   ],
   "source": [
    "for i in lst[1:]: # iterating all the rows\n",
    "    df[i].hist(bins=50,figsize=(10,6))\n",
    "    \n",
    "    # Width of each bin is = (max value of data – min value of data) / total number of bins \n",
    "    # hist means histogram, here we using with the help of matplotlib , it gives some bins to understand bars\n",
    "    \n",
    "    plt.yscale('log') \n",
    "    #the type of conversion of the scale, to convert y-axes to logarithmic scale we pass the “log” keyword or the matplotlib. scale\n",
    "    #LogScale class to the yscale method\n",
    "    plt.title(i)\n",
    "    \n",
    "    plt.show()\n",
    "    # Show the image"
   ]
  },
  {
   "cell_type": "markdown",
   "metadata": {
    "id": "ZYDv-_cSXXyv"
   },
   "source": [
    "### NOTE\n",
    "- V1 ---> its a left side skwed, mean is on the left, Here data points are most on left side and very few amount of outliers occurs.\n",
    "\n",
    "- V2 ---> its looks like bell cure i.e Uniform distribution some slightly a left side skwed, mean is on the left, Here data points are most uniform and very few amount of outliers occurs.\n",
    "\n",
    "- V3 ---> its a left side skwed  mean is on the left, Here data points are most on left side and very few amount of outliers occurs\n",
    "\n",
    "- V4 --->its looks like bell cure i.e Uniform distribution some slightly a right side skwed, mean is on the right, Here data points are most uniform and very few amount of outliers occurs on 2 bins.\n",
    "\n",
    "- V5 ---> It looks unifrom distribution and one bin outlier far away to this data.\n",
    "\n",
    "- V6 ---> It looks unifrom distribution and one bin outlier far away to this data.\n",
    "\n",
    "- V7 ---> It looks unifrom distribution and one bin outlier far away to this data.\n",
    "\n",
    "- V8 --->its looks like bell cure i.e Uniform distribution some slightly a right side skwed, mean is on the right, Here data points are most uniform and very few amount of outliers occurs on 2 bins\n",
    "\n",
    "- V9 ---> its looks like bell cure i.e Uniform distribution some slightly a left side skwed, mean is on the left, Here data points are most uniform and very few amount of outliers occurs\n",
    "\n",
    "- V10 ---> it looks unifrom distribution small amount of data oustide.\n",
    "\n",
    "- V11 ---> Its a Completely Uniform Distribution\n",
    "\n",
    "- V12--->its looks like bell cure i.e Uniform distribution some slightly a right side skwed, mean is on the right, Here data points are most uniform and very few amount of outliers occurs on 1 bin.\n",
    "\n",
    "- V13  ---> Its a Completely Uniform Distribution\n",
    "\n",
    "- V14 --->its looks like bell cure i.e Uniform distribution some slightly a right side skwed, mean is on the right, Here data points are most uniform and very few amount of outliers occurs on positive side aswellas neagative.\n",
    "\n",
    "- V15 ---> It looks unifrom distribution and one bin outlier far away to this data.\n",
    "\n",
    "- V16 ---> It looks unifrom distribution and one bin outlier far away to this data.\n",
    "\n",
    "- V17 ---> its looks like bell cure i.e Uniform distribution some slightly a left side skwed, mean is on the left, Here data points are most uniform and very few amount of data is on left but there in group.\n",
    "\n",
    "- V18 ---> its looks like bell cure i.e Uniform distribution some slightly a right side skwed, mean is on the right, Here data points are most uniform and very few amount of data is on right but there in group.\n",
    "\n",
    "- V19 ---> Its a Completely Uniform Distribution\n",
    "\n",
    "- V20 ---> Its a Completely Uniform Distribution\n",
    "\n",
    "- V21 ---> Its a Completely Uniform Distribution\n",
    "\n",
    "- V22 ---> Its a Completely Uniform Distribution\n",
    "\n",
    "- V23 ---> Its a Completely Uniform Distribution\n",
    "\n",
    "- V24 --->its looks like bell cure i.e Uniform distribution some slightly a right side skwed, mean is on the right, Here data points are most uniform and very few amount of outliers occurs on positive side.\n",
    "\n",
    "- V25 ---> it looks unifrom distribution very small amount of data is far.\n",
    "\n",
    "- V26 ---> it looks unifrom distribution very small amount of data is far.\n",
    "\n",
    "- V27 ---> it looks unifrom distribution very small amount of data is far.\n",
    "\n",
    "- V28 ---> it looks unifrom distribution very small amount of data is far.\n",
    "\n",
    "- Amount ---> its a left side skwed, mean is on the left, Here data points are most on left side and very few amount of outliers occurs.\n",
    "- Class ------> It has around not fraud  2.5 Lakhs  and 1 is fraud i.e nearly 400   \n"
   ]
  },
  {
   "cell_type": "markdown",
   "metadata": {
    "id": "Te0BNPRLXXyw"
   },
   "source": [
    "#### drop function\n",
    "> **Reference link for Drop :** - https://pandas.pydata.org/pandas-docs/stable/reference/api/pandas.DataFrame.drop.html\n",
    "- Drop function is used to drop the row based on row or column .\n",
    "- Want to drop a row using index, axis = 0 means row\n",
    "- want to drop a column by using axis = 1 and specifying name of the column"
   ]
  },
  {
   "cell_type": "code",
   "execution_count": 16,
   "metadata": {
    "executionInfo": {
     "elapsed": 1250,
     "status": "aborted",
     "timestamp": 1629217732891,
     "user": {
      "displayName": "Madhav Jauhari",
      "photoUrl": "https://lh3.googleusercontent.com/a-/AOh14Gghbg8rb_f6ibKyinX6HSh3SIDBJelyamAMDxGC55Y=s64",
      "userId": "13105489007187997014"
     },
     "user_tz": -330
    },
    "id": "rqvPsTyoXXyw"
   },
   "outputs": [
    {
     "data": {
      "text/html": [
       "<div>\n",
       "<style scoped>\n",
       "    .dataframe tbody tr th:only-of-type {\n",
       "        vertical-align: middle;\n",
       "    }\n",
       "\n",
       "    .dataframe tbody tr th {\n",
       "        vertical-align: top;\n",
       "    }\n",
       "\n",
       "    .dataframe thead th {\n",
       "        text-align: right;\n",
       "    }\n",
       "</style>\n",
       "<table border=\"1\" class=\"dataframe\">\n",
       "  <thead>\n",
       "    <tr style=\"text-align: right;\">\n",
       "      <th></th>\n",
       "      <th>V1</th>\n",
       "      <th>V2</th>\n",
       "      <th>V3</th>\n",
       "      <th>V4</th>\n",
       "      <th>V5</th>\n",
       "      <th>V6</th>\n",
       "      <th>V7</th>\n",
       "      <th>V8</th>\n",
       "      <th>V9</th>\n",
       "      <th>V10</th>\n",
       "      <th>...</th>\n",
       "      <th>V20</th>\n",
       "      <th>V21</th>\n",
       "      <th>V22</th>\n",
       "      <th>V23</th>\n",
       "      <th>V24</th>\n",
       "      <th>V25</th>\n",
       "      <th>V26</th>\n",
       "      <th>V27</th>\n",
       "      <th>V28</th>\n",
       "      <th>Amount</th>\n",
       "    </tr>\n",
       "  </thead>\n",
       "  <tbody>\n",
       "    <tr>\n",
       "      <th>0</th>\n",
       "      <td>-1.359807</td>\n",
       "      <td>-0.072781</td>\n",
       "      <td>2.536347</td>\n",
       "      <td>1.378155</td>\n",
       "      <td>-0.338321</td>\n",
       "      <td>0.462388</td>\n",
       "      <td>0.239599</td>\n",
       "      <td>0.098698</td>\n",
       "      <td>0.363787</td>\n",
       "      <td>0.090794</td>\n",
       "      <td>...</td>\n",
       "      <td>0.251412</td>\n",
       "      <td>-0.018307</td>\n",
       "      <td>0.277838</td>\n",
       "      <td>-0.110474</td>\n",
       "      <td>0.066928</td>\n",
       "      <td>0.128539</td>\n",
       "      <td>-0.189115</td>\n",
       "      <td>0.133558</td>\n",
       "      <td>-0.021053</td>\n",
       "      <td>149.62</td>\n",
       "    </tr>\n",
       "    <tr>\n",
       "      <th>1</th>\n",
       "      <td>1.191857</td>\n",
       "      <td>0.266151</td>\n",
       "      <td>0.166480</td>\n",
       "      <td>0.448154</td>\n",
       "      <td>0.060018</td>\n",
       "      <td>-0.082361</td>\n",
       "      <td>-0.078803</td>\n",
       "      <td>0.085102</td>\n",
       "      <td>-0.255425</td>\n",
       "      <td>-0.166974</td>\n",
       "      <td>...</td>\n",
       "      <td>-0.069083</td>\n",
       "      <td>-0.225775</td>\n",
       "      <td>-0.638672</td>\n",
       "      <td>0.101288</td>\n",
       "      <td>-0.339846</td>\n",
       "      <td>0.167170</td>\n",
       "      <td>0.125895</td>\n",
       "      <td>-0.008983</td>\n",
       "      <td>0.014724</td>\n",
       "      <td>2.69</td>\n",
       "    </tr>\n",
       "    <tr>\n",
       "      <th>2</th>\n",
       "      <td>-1.358354</td>\n",
       "      <td>-1.340163</td>\n",
       "      <td>1.773209</td>\n",
       "      <td>0.379780</td>\n",
       "      <td>-0.503198</td>\n",
       "      <td>1.800499</td>\n",
       "      <td>0.791461</td>\n",
       "      <td>0.247676</td>\n",
       "      <td>-1.514654</td>\n",
       "      <td>0.207643</td>\n",
       "      <td>...</td>\n",
       "      <td>0.524980</td>\n",
       "      <td>0.247998</td>\n",
       "      <td>0.771679</td>\n",
       "      <td>0.909412</td>\n",
       "      <td>-0.689281</td>\n",
       "      <td>-0.327642</td>\n",
       "      <td>-0.139097</td>\n",
       "      <td>-0.055353</td>\n",
       "      <td>-0.059752</td>\n",
       "      <td>378.66</td>\n",
       "    </tr>\n",
       "    <tr>\n",
       "      <th>3</th>\n",
       "      <td>-0.966272</td>\n",
       "      <td>-0.185226</td>\n",
       "      <td>1.792993</td>\n",
       "      <td>-0.863291</td>\n",
       "      <td>-0.010309</td>\n",
       "      <td>1.247203</td>\n",
       "      <td>0.237609</td>\n",
       "      <td>0.377436</td>\n",
       "      <td>-1.387024</td>\n",
       "      <td>-0.054952</td>\n",
       "      <td>...</td>\n",
       "      <td>-0.208038</td>\n",
       "      <td>-0.108300</td>\n",
       "      <td>0.005274</td>\n",
       "      <td>-0.190321</td>\n",
       "      <td>-1.175575</td>\n",
       "      <td>0.647376</td>\n",
       "      <td>-0.221929</td>\n",
       "      <td>0.062723</td>\n",
       "      <td>0.061458</td>\n",
       "      <td>123.50</td>\n",
       "    </tr>\n",
       "    <tr>\n",
       "      <th>4</th>\n",
       "      <td>-1.158233</td>\n",
       "      <td>0.877737</td>\n",
       "      <td>1.548718</td>\n",
       "      <td>0.403034</td>\n",
       "      <td>-0.407193</td>\n",
       "      <td>0.095921</td>\n",
       "      <td>0.592941</td>\n",
       "      <td>-0.270533</td>\n",
       "      <td>0.817739</td>\n",
       "      <td>0.753074</td>\n",
       "      <td>...</td>\n",
       "      <td>0.408542</td>\n",
       "      <td>-0.009431</td>\n",
       "      <td>0.798278</td>\n",
       "      <td>-0.137458</td>\n",
       "      <td>0.141267</td>\n",
       "      <td>-0.206010</td>\n",
       "      <td>0.502292</td>\n",
       "      <td>0.219422</td>\n",
       "      <td>0.215153</td>\n",
       "      <td>69.99</td>\n",
       "    </tr>\n",
       "    <tr>\n",
       "      <th>...</th>\n",
       "      <td>...</td>\n",
       "      <td>...</td>\n",
       "      <td>...</td>\n",
       "      <td>...</td>\n",
       "      <td>...</td>\n",
       "      <td>...</td>\n",
       "      <td>...</td>\n",
       "      <td>...</td>\n",
       "      <td>...</td>\n",
       "      <td>...</td>\n",
       "      <td>...</td>\n",
       "      <td>...</td>\n",
       "      <td>...</td>\n",
       "      <td>...</td>\n",
       "      <td>...</td>\n",
       "      <td>...</td>\n",
       "      <td>...</td>\n",
       "      <td>...</td>\n",
       "      <td>...</td>\n",
       "      <td>...</td>\n",
       "      <td>...</td>\n",
       "    </tr>\n",
       "    <tr>\n",
       "      <th>284802</th>\n",
       "      <td>-11.881118</td>\n",
       "      <td>10.071785</td>\n",
       "      <td>-9.834783</td>\n",
       "      <td>-2.066656</td>\n",
       "      <td>-5.364473</td>\n",
       "      <td>-2.606837</td>\n",
       "      <td>-4.918215</td>\n",
       "      <td>7.305334</td>\n",
       "      <td>1.914428</td>\n",
       "      <td>4.356170</td>\n",
       "      <td>...</td>\n",
       "      <td>1.475829</td>\n",
       "      <td>0.213454</td>\n",
       "      <td>0.111864</td>\n",
       "      <td>1.014480</td>\n",
       "      <td>-0.509348</td>\n",
       "      <td>1.436807</td>\n",
       "      <td>0.250034</td>\n",
       "      <td>0.943651</td>\n",
       "      <td>0.823731</td>\n",
       "      <td>0.77</td>\n",
       "    </tr>\n",
       "    <tr>\n",
       "      <th>284803</th>\n",
       "      <td>-0.732789</td>\n",
       "      <td>-0.055080</td>\n",
       "      <td>2.035030</td>\n",
       "      <td>-0.738589</td>\n",
       "      <td>0.868229</td>\n",
       "      <td>1.058415</td>\n",
       "      <td>0.024330</td>\n",
       "      <td>0.294869</td>\n",
       "      <td>0.584800</td>\n",
       "      <td>-0.975926</td>\n",
       "      <td>...</td>\n",
       "      <td>0.059616</td>\n",
       "      <td>0.214205</td>\n",
       "      <td>0.924384</td>\n",
       "      <td>0.012463</td>\n",
       "      <td>-1.016226</td>\n",
       "      <td>-0.606624</td>\n",
       "      <td>-0.395255</td>\n",
       "      <td>0.068472</td>\n",
       "      <td>-0.053527</td>\n",
       "      <td>24.79</td>\n",
       "    </tr>\n",
       "    <tr>\n",
       "      <th>284804</th>\n",
       "      <td>1.919565</td>\n",
       "      <td>-0.301254</td>\n",
       "      <td>-3.249640</td>\n",
       "      <td>-0.557828</td>\n",
       "      <td>2.630515</td>\n",
       "      <td>3.031260</td>\n",
       "      <td>-0.296827</td>\n",
       "      <td>0.708417</td>\n",
       "      <td>0.432454</td>\n",
       "      <td>-0.484782</td>\n",
       "      <td>...</td>\n",
       "      <td>0.001396</td>\n",
       "      <td>0.232045</td>\n",
       "      <td>0.578229</td>\n",
       "      <td>-0.037501</td>\n",
       "      <td>0.640134</td>\n",
       "      <td>0.265745</td>\n",
       "      <td>-0.087371</td>\n",
       "      <td>0.004455</td>\n",
       "      <td>-0.026561</td>\n",
       "      <td>67.88</td>\n",
       "    </tr>\n",
       "    <tr>\n",
       "      <th>284805</th>\n",
       "      <td>-0.240440</td>\n",
       "      <td>0.530483</td>\n",
       "      <td>0.702510</td>\n",
       "      <td>0.689799</td>\n",
       "      <td>-0.377961</td>\n",
       "      <td>0.623708</td>\n",
       "      <td>-0.686180</td>\n",
       "      <td>0.679145</td>\n",
       "      <td>0.392087</td>\n",
       "      <td>-0.399126</td>\n",
       "      <td>...</td>\n",
       "      <td>0.127434</td>\n",
       "      <td>0.265245</td>\n",
       "      <td>0.800049</td>\n",
       "      <td>-0.163298</td>\n",
       "      <td>0.123205</td>\n",
       "      <td>-0.569159</td>\n",
       "      <td>0.546668</td>\n",
       "      <td>0.108821</td>\n",
       "      <td>0.104533</td>\n",
       "      <td>10.00</td>\n",
       "    </tr>\n",
       "    <tr>\n",
       "      <th>284806</th>\n",
       "      <td>-0.533413</td>\n",
       "      <td>-0.189733</td>\n",
       "      <td>0.703337</td>\n",
       "      <td>-0.506271</td>\n",
       "      <td>-0.012546</td>\n",
       "      <td>-0.649617</td>\n",
       "      <td>1.577006</td>\n",
       "      <td>-0.414650</td>\n",
       "      <td>0.486180</td>\n",
       "      <td>-0.915427</td>\n",
       "      <td>...</td>\n",
       "      <td>0.382948</td>\n",
       "      <td>0.261057</td>\n",
       "      <td>0.643078</td>\n",
       "      <td>0.376777</td>\n",
       "      <td>0.008797</td>\n",
       "      <td>-0.473649</td>\n",
       "      <td>-0.818267</td>\n",
       "      <td>-0.002415</td>\n",
       "      <td>0.013649</td>\n",
       "      <td>217.00</td>\n",
       "    </tr>\n",
       "  </tbody>\n",
       "</table>\n",
       "<p>284807 rows × 29 columns</p>\n",
       "</div>"
      ],
      "text/plain": [
       "               V1         V2        V3        V4        V5        V6  \\\n",
       "0       -1.359807  -0.072781  2.536347  1.378155 -0.338321  0.462388   \n",
       "1        1.191857   0.266151  0.166480  0.448154  0.060018 -0.082361   \n",
       "2       -1.358354  -1.340163  1.773209  0.379780 -0.503198  1.800499   \n",
       "3       -0.966272  -0.185226  1.792993 -0.863291 -0.010309  1.247203   \n",
       "4       -1.158233   0.877737  1.548718  0.403034 -0.407193  0.095921   \n",
       "...           ...        ...       ...       ...       ...       ...   \n",
       "284802 -11.881118  10.071785 -9.834783 -2.066656 -5.364473 -2.606837   \n",
       "284803  -0.732789  -0.055080  2.035030 -0.738589  0.868229  1.058415   \n",
       "284804   1.919565  -0.301254 -3.249640 -0.557828  2.630515  3.031260   \n",
       "284805  -0.240440   0.530483  0.702510  0.689799 -0.377961  0.623708   \n",
       "284806  -0.533413  -0.189733  0.703337 -0.506271 -0.012546 -0.649617   \n",
       "\n",
       "              V7        V8        V9       V10  ...       V20       V21  \\\n",
       "0       0.239599  0.098698  0.363787  0.090794  ...  0.251412 -0.018307   \n",
       "1      -0.078803  0.085102 -0.255425 -0.166974  ... -0.069083 -0.225775   \n",
       "2       0.791461  0.247676 -1.514654  0.207643  ...  0.524980  0.247998   \n",
       "3       0.237609  0.377436 -1.387024 -0.054952  ... -0.208038 -0.108300   \n",
       "4       0.592941 -0.270533  0.817739  0.753074  ...  0.408542 -0.009431   \n",
       "...          ...       ...       ...       ...  ...       ...       ...   \n",
       "284802 -4.918215  7.305334  1.914428  4.356170  ...  1.475829  0.213454   \n",
       "284803  0.024330  0.294869  0.584800 -0.975926  ...  0.059616  0.214205   \n",
       "284804 -0.296827  0.708417  0.432454 -0.484782  ...  0.001396  0.232045   \n",
       "284805 -0.686180  0.679145  0.392087 -0.399126  ...  0.127434  0.265245   \n",
       "284806  1.577006 -0.414650  0.486180 -0.915427  ...  0.382948  0.261057   \n",
       "\n",
       "             V22       V23       V24       V25       V26       V27       V28  \\\n",
       "0       0.277838 -0.110474  0.066928  0.128539 -0.189115  0.133558 -0.021053   \n",
       "1      -0.638672  0.101288 -0.339846  0.167170  0.125895 -0.008983  0.014724   \n",
       "2       0.771679  0.909412 -0.689281 -0.327642 -0.139097 -0.055353 -0.059752   \n",
       "3       0.005274 -0.190321 -1.175575  0.647376 -0.221929  0.062723  0.061458   \n",
       "4       0.798278 -0.137458  0.141267 -0.206010  0.502292  0.219422  0.215153   \n",
       "...          ...       ...       ...       ...       ...       ...       ...   \n",
       "284802  0.111864  1.014480 -0.509348  1.436807  0.250034  0.943651  0.823731   \n",
       "284803  0.924384  0.012463 -1.016226 -0.606624 -0.395255  0.068472 -0.053527   \n",
       "284804  0.578229 -0.037501  0.640134  0.265745 -0.087371  0.004455 -0.026561   \n",
       "284805  0.800049 -0.163298  0.123205 -0.569159  0.546668  0.108821  0.104533   \n",
       "284806  0.643078  0.376777  0.008797 -0.473649 -0.818267 -0.002415  0.013649   \n",
       "\n",
       "        Amount  \n",
       "0       149.62  \n",
       "1         2.69  \n",
       "2       378.66  \n",
       "3       123.50  \n",
       "4        69.99  \n",
       "...        ...  \n",
       "284802    0.77  \n",
       "284803   24.79  \n",
       "284804   67.88  \n",
       "284805   10.00  \n",
       "284806  217.00  \n",
       "\n",
       "[284807 rows x 29 columns]"
      ]
     },
     "execution_count": 16,
     "metadata": {},
     "output_type": "execute_result"
    }
   ],
   "source": [
    "df.drop(columns=['Time','Class']) \n",
    "\n",
    "# dropping time,id columns"
   ]
  },
  {
   "cell_type": "markdown",
   "metadata": {
    "id": "25jkCUQLXXyx"
   },
   "source": [
    "### Correlation :\n",
    "\n",
    "**HeatMap** - A heatmap is a graphical representation of data in which data values are represented as colors. That is, it uses color in order to communicate a value to the reader. This is a great tool to assist the audience towards the areas that matter the most when you have a large volume of data.\n",
    "> Reference link : https://seaborn.pydata.org/generated/seaborn.heatmap.html\n",
    ">\n",
    "> - It shows the relationship between two columns or variables\n",
    "> - if correlation is equal to zero    i.e    No Correlated\n",
    "> - if correlation is equal to one     i.e    Perfect Correlated\n",
    "> - if correlation is between less than zero to less than 0.45    i.e    small positive correlated\n",
    "> - if correlation is between greater than 0.5  to 0.9 then it is   i.e large positive correlated\n",
    "> - if correlation is negative to -0.45 is    small neagtive correlated\n",
    "> - if correlation is negative between greater than - 0.5  to - 0.9 then it is   i.e large negative correlated"
   ]
  },
  {
   "cell_type": "code",
   "execution_count": 17,
   "metadata": {
    "executionInfo": {
     "elapsed": 1251,
     "status": "aborted",
     "timestamp": 1629217732892,
     "user": {
      "displayName": "Madhav Jauhari",
      "photoUrl": "https://lh3.googleusercontent.com/a-/AOh14Gghbg8rb_f6ibKyinX6HSh3SIDBJelyamAMDxGC55Y=s64",
      "userId": "13105489007187997014"
     },
     "user_tz": -330
    },
    "id": "mSZvT1EhXXyx"
   },
   "outputs": [
    {
     "data": {
      "text/plain": [
       "<AxesSubplot:>"
      ]
     },
     "execution_count": 17,
     "metadata": {},
     "output_type": "execute_result"
    },
    {
     "data": {
      "image/png": "[encoded data removed]",
      "text/plain": [
       "<Figure size 1440x1080 with 2 Axes>"
      ]
     },
     "metadata": {
      "needs_background": "light"
     },
     "output_type": "display_data"
    }
   ],
   "source": [
    "# plotting correlation plot\n",
    "\n",
    "plt.figure(figsize=(20,15))\n",
    "#plotting the figure size based on width and height\n",
    "\n",
    "sns.heatmap(df.corr(),cmap='PiYG',annot=True,linewidths=1,fmt='0.2f')\n",
    "\n",
    "# data: 2D dataset that can be coerced into an ndarray.\n",
    "# cmap: The mapping from data values to color space.\n",
    "# annot: If True, write the data value in each cell.\n",
    "# fmt: String formatting code to use when adding annotations.\n",
    "# linewidths: Width of the lines that will divide each cell.\n"
   ]
  },
  {
   "cell_type": "markdown",
   "metadata": {
    "id": "Heqmyn1jXXyx"
   },
   "source": [
    "### NOTE :-\n",
    "-  V1, V3, V5, V8, V9, V10,V11, V12, V13, V14, V15, V16, V19, V22,V23, V25, V26   are **small neagtive correlated with amount**\n",
    "- V2 is **large neative correlated with amount**\n",
    "- V11 **does not correlated with amount i.e 0.0**\n",
    "- V4, V6, V7, V14, V17, V18, V20,V21, V27 V28 are **Small positive correlated.**"
   ]
  },
  {
   "cell_type": "code",
   "execution_count": 18,
   "metadata": {
    "executionInfo": {
     "elapsed": 1250,
     "status": "aborted",
     "timestamp": 1629217732892,
     "user": {
      "displayName": "Madhav Jauhari",
      "photoUrl": "https://lh3.googleusercontent.com/a-/AOh14Gghbg8rb_f6ibKyinX6HSh3SIDBJelyamAMDxGC55Y=s64",
      "userId": "13105489007187997014"
     },
     "user_tz": -330
    },
    "id": "1Yt9n44QXXyx"
   },
   "outputs": [],
   "source": [
    "#  create dataset\n",
    "\n",
    "X = df.iloc[:,:-1] #independent Variable\n",
    "\n",
    "y = df.iloc[:,-1] #dependent Variable"
   ]
  },
  {
   "cell_type": "code",
   "execution_count": 19,
   "metadata": {
    "executionInfo": {
     "elapsed": 1251,
     "status": "aborted",
     "timestamp": 1629217732893,
     "user": {
      "displayName": "Madhav Jauhari",
      "photoUrl": "https://lh3.googleusercontent.com/a-/AOh14Gghbg8rb_f6ibKyinX6HSh3SIDBJelyamAMDxGC55Y=s64",
      "userId": "13105489007187997014"
     },
     "user_tz": -330
    },
    "id": "Pg3Ce6ArXXyx"
   },
   "outputs": [
    {
     "data": {
      "text/plain": [
       "0         0\n",
       "1         0\n",
       "2         0\n",
       "3         0\n",
       "4         0\n",
       "         ..\n",
       "284802    0\n",
       "284803    0\n",
       "284804    0\n",
       "284805    0\n",
       "284806    0\n",
       "Name: Class, Length: 284807, dtype: int64"
      ]
     },
     "execution_count": 19,
     "metadata": {},
     "output_type": "execute_result"
    }
   ],
   "source": [
    "y"
   ]
  },
  {
   "cell_type": "markdown",
   "metadata": {
    "id": "8ZtP0p6UXXyy"
   },
   "source": [
    "### countplot(): \n",
    "> - **Reference link for countplot:** https://seaborn.pydata.org/generated/seaborn.countplot.html\n",
    "- Countplot() method is used to Show the counts of observations in each categorical bin using bars.\n",
    "### Counter \n",
    "- Counter is a container which stores the count of elements in a dictionary format where element is the key and its value corrosponds to it's count."
   ]
  },
  {
   "cell_type": "code",
   "execution_count": 23,
   "metadata": {
    "executionInfo": {
     "elapsed": 1252,
     "status": "aborted",
     "timestamp": 1629217732894,
     "user": {
      "displayName": "Madhav Jauhari",
      "photoUrl": "https://lh3.googleusercontent.com/a-/AOh14Gghbg8rb_f6ibKyinX6HSh3SIDBJelyamAMDxGC55Y=s64",
      "userId": "13105489007187997014"
     },
     "user_tz": -330
    },
    "id": "VWF2dwlKXXyy"
   },
   "outputs": [
    {
     "name": "stdout",
     "output_type": "stream",
     "text": [
      "Counter({0: 284315, 1: 492})\n"
     ]
    },
    {
     "data": {
      "image/png": "[encoded data removed]",
      "text/plain": [
       "<Figure size 432x288 with 1 Axes>"
      ]
     },
     "metadata": {
      "needs_background": "light"
     },
     "output_type": "display_data"
    }
   ],
   "source": [
    "sns.countplot(x='Class', data = df)\n",
    "#is used to Show the counts of observations in each categorical bin using bar\n",
    "\n",
    "\n",
    "from collections import Counter\n",
    "#Counter is a container which stores the count of elements in a dictionary format where element is the key and its value corrosponds to it's count.\n",
    "\n",
    "counter = Counter( df [ 'Class' ])\n",
    "#passing 'Class' feature in the Counter , it tells no. of 1s and 0s present in the dataset\n",
    "\n",
    "print(counter)\n",
    "#print the counter variable\n",
    "\n",
    "# 1 ------->    Fraud\n",
    "# 0 ------->   Not Fraud"
   ]
  },
  {
   "cell_type": "markdown",
   "metadata": {
    "id": "Y7-qRVE5XXyy"
   },
   "source": [
    "#### NOTE:\n",
    "- There are **284315** number is not fraud and remaing **492** is fraud."
   ]
  },
  {
   "cell_type": "markdown",
   "metadata": {
    "id": "cPf_XA-JXXyy"
   },
   "source": [
    "### Split the dataset into training and testing"
   ]
  },
  {
   "cell_type": "markdown",
   "metadata": {
    "id": "YYB4--ScXXyz"
   },
   "source": [
    "#### Train_Test_Split\n",
    "> - Reference link : https://scikit-learn.org/stable/modules/generated/sklearn.model_selection.train_test_split.html\n",
    "> - **Train-Test Split Evaluation**\n",
    "- The train-test split is a technique for evaluating the performance of a machine learning algorithm.\n",
    "\n",
    "- It can be used for classification or regression problems and can be used for any supervised learning algorithm.\n",
    "\n",
    "- The procedure involves taking a dataset and dividing it into two subsets. The first subset is used to fit the model and is referred to as the training dataset. The second subset is not used to train the model; instead, the input element of the dataset is provided to the model, then predictions are made and compared to the expected values. This second dataset is referred to as the test dataset.\n",
    "\n",
    "- Train Dataset: Used to fit the machine learning model.\n",
    "- Test Dataset: Used to evaluate the fit machine learning model.\n",
    "- The objective is to estimate the performance of the machine learning model on new data: data not used to train the model.\n",
    "\n",
    ">  common split percentages include:\n",
    "\n",
    "- Train: 80%, Test: 20%\n",
    "- Train: 67%, Test: 33%\n",
    "- Train: 50%, Test: 50%"
   ]
  },
  {
   "cell_type": "code",
   "execution_count": 24,
   "metadata": {
    "executionInfo": {
     "elapsed": 1252,
     "status": "aborted",
     "timestamp": 1629217732894,
     "user": {
      "displayName": "Madhav Jauhari",
      "photoUrl": "https://lh3.googleusercontent.com/a-/AOh14Gghbg8rb_f6ibKyinX6HSh3SIDBJelyamAMDxGC55Y=s64",
      "userId": "13105489007187997014"
     },
     "user_tz": -330
    },
    "id": "jMTjR2YPXXy0"
   },
   "outputs": [],
   "source": [
    "np.random.seed(1001)\n",
    "# np.random.seed   it can generate same random numbers on multiple executions of the code on the same machine\n",
    "\n",
    "#importing train_test_split\n",
    "from sklearn.model_selection import train_test_split\n",
    "\n",
    "## split into train tests sets\n",
    "x_train,x_test,y_train,y_test=train_test_split(df,y,test_size=0.2)"
   ]
  },
  {
   "cell_type": "code",
   "execution_count": 25,
   "metadata": {
    "executionInfo": {
     "elapsed": 1252,
     "status": "aborted",
     "timestamp": 1629217732894,
     "user": {
      "displayName": "Madhav Jauhari",
      "photoUrl": "https://lh3.googleusercontent.com/a-/AOh14Gghbg8rb_f6ibKyinX6HSh3SIDBJelyamAMDxGC55Y=s64",
      "userId": "13105489007187997014"
     },
     "user_tz": -330
    },
    "id": "d3Z_yUkAXXy0"
   },
   "outputs": [
    {
     "data": {
      "text/plain": [
       "((227845, 31), (56962, 31), (227845,), (56962,))"
      ]
     },
     "execution_count": 25,
     "metadata": {},
     "output_type": "execute_result"
    }
   ],
   "source": [
    "# Check the shape of each\n",
    "x_train.shape,x_test.shape,y_train.shape,y_test.shape"
   ]
  },
  {
   "cell_type": "markdown",
   "metadata": {
    "id": "5ztmK_kFXXy0"
   },
   "source": [
    "## Classification Algorithms"
   ]
  },
  {
   "cell_type": "markdown",
   "metadata": {
    "id": "_a-6qXNiXXy0"
   },
   "source": [
    "### KNeighborsClassifier\n",
    "> - **Reference link KNN :** https://scikit-learn.org/stable/modules/generated/sklearn.neighbors.KNeighborsClassifier.html\n",
    "- The K-Nearest Neighbors classifier (KNN) is one of the simplest yet most commonly\n",
    "used classifiers in supervised machine learning.\n",
    "- KNN is often considered a lazy learner.\n",
    "- it doesn’t technically train a model to make predictions.\n",
    "- Instead an observation is predicted to be the class of that of the largest proportion of the k nearest observations.\n",
    "For example, if an observation with an unknown class is surrounded by an\n",
    "observation of class 1, then the observation is classified as class 1."
   ]
  },
  {
   "cell_type": "code",
   "execution_count": 26,
   "metadata": {
    "executionInfo": {
     "elapsed": 1253,
     "status": "aborted",
     "timestamp": 1629217732895,
     "user": {
      "displayName": "Madhav Jauhari",
      "photoUrl": "https://lh3.googleusercontent.com/a-/AOh14Gghbg8rb_f6ibKyinX6HSh3SIDBJelyamAMDxGC55Y=s64",
      "userId": "13105489007187997014"
     },
     "user_tz": -330
    },
    "id": "sPjM9d83XXy0"
   },
   "outputs": [],
   "source": [
    "#Use scikit-learn’s NearestNeighbors:\n",
    "from sklearn.neighbors import KNeighborsClassifier\n",
    "\n"
   ]
  },
  {
   "cell_type": "markdown",
   "metadata": {
    "id": "SceAYVt8XXy1"
   },
   "source": [
    "#### minkowski\n",
    "> - **Reference link:** https://machinelearningmastery.com/distance-measures-for-machine-learning/\n",
    "> minkowski ----> The Minkowski distance is a metric in a normed vector space which can be considered as a generalization of both the Euclidean distance and the Manhattan distance\n"
   ]
  },
  {
   "cell_type": "code",
   "execution_count": 27,
   "metadata": {
    "executionInfo": {
     "elapsed": 1252,
     "status": "aborted",
     "timestamp": 1629217732895,
     "user": {
      "displayName": "Madhav Jauhari",
      "photoUrl": "https://lh3.googleusercontent.com/a-/AOh14Gghbg8rb_f6ibKyinX6HSh3SIDBJelyamAMDxGC55Y=s64",
      "userId": "13105489007187997014"
     },
     "user_tz": -330
    },
    "id": "WaUeC3VxXXy1"
   },
   "outputs": [],
   "source": [
    "# Build a model\n",
    "# Find each observation's five  nearest neighbors\n",
    "# based on minkowski distance (including itself)\n",
    "\n",
    "## Train a KNN classifier with 5 neighbors\n",
    "model = KNeighborsClassifier(n_neighbors=5,metric='minkowski',p=2)\n",
    "\n",
    "\n",
    "\n",
    "# minkowski ----> The Minkowski distance is a metric in a normed vector space which can be considered as a generalization of both the Euclidean distance and the Manhattan distance"
   ]
  },
  {
   "cell_type": "code",
   "execution_count": 28,
   "metadata": {
    "executionInfo": {
     "elapsed": 1253,
     "status": "aborted",
     "timestamp": 1629217732896,
     "user": {
      "displayName": "Madhav Jauhari",
      "photoUrl": "https://lh3.googleusercontent.com/a-/AOh14Gghbg8rb_f6ibKyinX6HSh3SIDBJelyamAMDxGC55Y=s64",
      "userId": "13105489007187997014"
     },
     "user_tz": -330
    },
    "id": "UQpmibTyXXy1"
   },
   "outputs": [
    {
     "data": {
      "text/plain": [
       "KNeighborsClassifier()"
      ]
     },
     "execution_count": 28,
     "metadata": {},
     "output_type": "execute_result"
    }
   ],
   "source": [
    "model.fit(x_train,y_train)\n",
    "\n",
    "#Train the model"
   ]
  },
  {
   "cell_type": "markdown",
   "metadata": {
    "id": "_XaSvnE_XXy1"
   },
   "source": [
    "### Evaluation"
   ]
  },
  {
   "cell_type": "code",
   "execution_count": 29,
   "metadata": {
    "executionInfo": {
     "elapsed": 1254,
     "status": "aborted",
     "timestamp": 1629217732897,
     "user": {
      "displayName": "Madhav Jauhari",
      "photoUrl": "https://lh3.googleusercontent.com/a-/AOh14Gghbg8rb_f6ibKyinX6HSh3SIDBJelyamAMDxGC55Y=s64",
      "userId": "13105489007187997014"
     },
     "user_tz": -330
    },
    "id": "3DILA4NRXXy1"
   },
   "outputs": [],
   "source": [
    "#predict the model on test \n",
    "y_pred=model.predict(x_test)\n",
    "\n",
    "#predict the models and probabilities\n",
    "y_pred_proba=model.predict_proba(x_test)[:,1]"
   ]
  },
  {
   "cell_type": "markdown",
   "metadata": {
    "id": "CNC7uKgOXXy1"
   },
   "source": [
    "### Classification Matrix \n",
    ">  **Confusion matrix**\n",
    "\n",
    "> - **Reference link for Confusion Matrix** - https://scikit-learn.org/stable/modules/generated/sklearn.metrics.confusion_matrix.html\n",
    "- A confusion matrix is a table that is often used to describe the performance of a classification model \n",
    "- true positives (TP): These are cases in which we predicted yes (they have the disease), and they do have the disease.\n",
    "- true negatives (TN): We predicted no, and they don't have the disease.\n",
    "- false positives (FP): We predicted yes, but they don't actually have the disease. (Also known as a \"Type I error.\")\n",
    "- false negatives (FN): We predicted no, but they actually do have the disease. (Also known as a \"Type II error.\")\n",
    "\n",
    "\n",
    "> \n",
    "\n",
    "> - precision - What proportion of positive identifications was actually correct?\n",
    "> - recall - What proportion of actual positives was identified correctly?\n",
    ">\n",
    "\n",
    "> **F1 Score**\n",
    "- F1 Score is the weighted average of Precision and Recall\n",
    "-  F1 is usually more useful than accuracy, especially if you have an uneven class distribution."
   ]
  },
  {
   "cell_type": "markdown",
   "metadata": {
    "id": "1mjPW9AbXXy1"
   },
   "source": [
    "### Note : \n",
    "> Kappa Score : \n",
    "-  It can also be used to assess the performance of a classification model.\n",
    "-  we know that Cohen’s kappa is a useful evaluation metric when dealing with imbalanced data\n",
    "- Cohen's kappa coefficient (κ) is a statistic that is used to measure inter-rater reliability\n",
    "- Cohen’s kappa tries to correct the evaluation bias by taking into account the correct classification by a random guess\n",
    "> \n",
    "![kappa.PNG](attachment:kappa.PNG)\n",
    ">\n",
    "\n",
    "> AUC \n",
    "- Its provies an aggregative measure of performance occurs all posibile classification thresholds\n",
    "- it talks about linearty about the dataset\n",
    "- AUC starts from 0 to 1\n",
    "- The higher the AUC, the better the performance of the model at distinguishing between the positive and negative classes.\n",
    ">\n",
    "\n",
    "> ROC (Receiver Operating Characterstic curve):\n",
    "- It shows the performance of the model through all thresholds\n",
    "- curve plot between two parameters\n",
    "> Tpr (Sensivity)\n",
    ">Fpr  (specifity)\n"
   ]
  },
  {
   "cell_type": "code",
   "execution_count": 30,
   "metadata": {
    "executionInfo": {
     "elapsed": 1254,
     "status": "aborted",
     "timestamp": 1629217732897,
     "user": {
      "displayName": "Madhav Jauhari",
      "photoUrl": "https://lh3.googleusercontent.com/a-/AOh14Gghbg8rb_f6ibKyinX6HSh3SIDBJelyamAMDxGC55Y=s64",
      "userId": "13105489007187997014"
     },
     "user_tz": -330
    },
    "id": "Sk-oIXzLXXy1"
   },
   "outputs": [],
   "source": [
    "#import the libraries for stats metrices\n",
    "import numpy as np\n",
    "\n",
    "#importing the Confusion matrix metrics and classification reports\n",
    "from sklearn.metrics import confusion_matrix, classification_report\n",
    "\n",
    "#Importing cohen_kappa_score and roc_auc_score metrices\n",
    "from sklearn.metrics import cohen_kappa_score, roc_auc_score\n",
    "from sklearn.metrics import roc_curve, auc\n",
    "\n",
    "#importing visualizing library\n",
    "import matplotlib.pyplot as plt\n",
    "import seaborn as sns\n",
    "\n",
    "#logloss to check is there loss or difference\n",
    "from sklearn.metrics import log_loss\n",
    "\n",
    "#Creating a Function name called Classification Metric\n",
    "def classification_metric(y_test,y_pred,y_prob,label,n=1,verbose=False):\n",
    "    \"\"\"\n",
    "    Note: only for binary classification\n",
    "    confusionmatrix(y_true,y_pred,labels=['No','Yes'])\n",
    "    \"\"\"\n",
    "    # confusion matrix\n",
    "    \n",
    "    cm = confusion_matrix(y_test,y_pred)\n",
    "    row_sum = cm.sum(axis=0)\n",
    "    cm = np.append(cm,row_sum.reshape(1,-1),axis=0)\n",
    "    col_sum = cm.sum(axis=1)\n",
    "    cm = np.append(cm,col_sum.reshape(-1,1),axis=1)\n",
    "\n",
    "    labels = label+['Total']\n",
    "    \n",
    "    plt.figure(figsize=(10,6))\n",
    "    #plotting a fig size as 10 width and 6 height\n",
    "    \n",
    "    \n",
    "    sns.heatmap(cm,annot=True,cmap='summer',fmt='0.2f',xticklabels=labels,\n",
    "                yticklabels=labels,linewidths=3,cbar=None,)\n",
    "    #create a heapmap using seaborn libarary and used various parametere\n",
    "\n",
    "    plt.xlabel('Predicted Values')\n",
    "    #ploting the values on x- axis as Predicted values\n",
    "    \n",
    "    plt.ylabel('Actual Values')\n",
    "    #ploting the values on y- axis as actual values\n",
    "    \n",
    "    plt.title('Confusion Matrix')\n",
    "    # Mentioning the title of the figure\n",
    "    \n",
    "    plt.show()\n",
    "    #show the image\n",
    "    \n",
    "    print('*'*30+'Classifcation Report'+'*'*30+'\\n\\n')\n",
    "    #showing * are to put a  line to style\n",
    "    \n",
    "    #created classification report\n",
    "    cr = classification_report(y_test,y_pred)\n",
    "    \n",
    "    #print the classifiaction report\n",
    "    print(cr)\n",
    "    \n",
    "    print('\\n'+'*'*36+'Kappa Score'+'*'*36+'\\n\\n')\n",
    "    \n",
    "    \n",
    "    # Kappa score\n",
    "    kappa = cohen_kappa_score(y_test,y_pred) # Kappa Score\n",
    "    print('Kappa Score =',kappa)\n",
    "    \n",
    "    print('\\n'+'*'*30+'Area Under Curve Score'+'*'*30+'\\n\\n')\n",
    "    # Kappa score\n",
    "    roc_a = roc_auc_score(y_test,y_pred) # Kappa Score\n",
    "    print('AUC Score =',roc_a)\n",
    "    \n",
    "    # ROC\n",
    "    \n",
    "    \n",
    "    plt.figure(figsize=(8,5))\n",
    "    #plot the figuare based on width and height sizes\n",
    "    \n",
    "    fpr,tpr, thresh = roc_curve(y_test,y_prob)\n",
    "    #fpr false positive rate\n",
    "    #tpr true positive rate\n",
    "    \n",
    "    plt.plot(fpr,tpr,'r')\n",
    "    print('Number of probabilities to build ROC =',len(fpr))\n",
    "    if verbose == True:\n",
    "        for i in range(len(thresh)):\n",
    "            if i%n == 0:\n",
    "                plt.text(fpr[i],tpr[i],'%0.2f'%thresh[i])\n",
    "                plt.plot(fpr[i],tpr[i],'v')\n",
    "\n",
    "\n",
    "    plt.xlabel('False Positive Rate')\n",
    "    #fpr on x -axis \n",
    "    \n",
    "    plt.ylabel('True Positive Rate')\n",
    "    #tpr on y axis\n",
    "    \n",
    "    plt.title('Receiver Operating Characterstic')\n",
    "    #mentioning the title of the figuare\n",
    "    \n",
    "    plt.legend(['AUC = {}'.format(roc_a)])\n",
    "    #assign the legend to the figuare\n",
    "    \n",
    "    plt.plot([0,1],[0,1],'b--',linewidth=2.0)\n",
    "    #mentioning then line width as 2.0\n",
    "    \n",
    "    plt.grid()\n",
    "    # show the grid lines to the image\n",
    "    \n",
    "    plt.show()\n",
    "    #display the image\n",
    "    \n",
    "  # A point beyond which there is a change in the manner a program executes  \n",
    "class threshold():\n",
    "    '''\n",
    "    Setting up the threshold points\n",
    "    '''\n",
    "    def __init__(self):\n",
    "        self.th = 0.5\n",
    "        \n",
    "    def predict_threshold(self,y):\n",
    "        if y >= self.th:\n",
    "            return 1\n",
    "        else:\n",
    "            return 0"
   ]
  },
  {
   "cell_type": "code",
   "execution_count": null,
   "metadata": {
    "executionInfo": {
     "elapsed": 1254,
     "status": "aborted",
     "timestamp": 1629217732897,
     "user": {
      "displayName": "Madhav Jauhari",
      "photoUrl": "https://lh3.googleusercontent.com/a-/AOh14Gghbg8rb_f6ibKyinX6HSh3SIDBJelyamAMDxGC55Y=s64",
      "userId": "13105489007187997014"
     },
     "user_tz": -330
    },
    "id": "u-mBIjNkXXy2"
   },
   "outputs": [],
   "source": [
    "#Calling the Classification_metric function. It will displays all the metrices which are we created earlier\n",
    "\n",
    "classification_metric(y_test,y_pred,y_pred_proba,['no','yes'],n=1,verbose=True)\n",
    "\n",
    "# VERBOSE : This flag allows you to write regular expressions that look nicer and are more readable by allowing you to visually separate logical sections of the pattern and add comments."
   ]
  },
  {
   "cell_type": "markdown",
   "metadata": {
    "id": "OaH0SLX7XXy2"
   },
   "source": [
    "### Note :- \n",
    "> - Above we can understand that Kappa Score is 0.116 is very less\n",
    "> - AUC score is moderate i.e 0.53 , we wnat to increase\n",
    "\n",
    "#### WHY BECAUSE ?\n",
    "> - The dataset is an imbalance dataset so, the kappa score and auc score are low, we can make it balanace by using some of techniques\n"
   ]
  },
  {
   "cell_type": "markdown",
   "metadata": {
    "id": "gPO-zde5XXy2"
   },
   "source": [
    "## Solution for unbalanced dataset:\n",
    "- is oversamplling techique  i.e **is Syntetic Minority Oversample Techique(SMOTE)**\n",
    "- Works based on K-NN\n"
   ]
  },
  {
   "cell_type": "markdown",
   "metadata": {
    "id": "D006Du5xXXy2"
   },
   "source": [
    "# Installing TensorFlow\n",
    "\n",
    "\n",
    "- !pip install tensorflow\n",
    "- !pip install -U imbalanced_learn \n",
    "- !pip install --user imbalanced_learn"
   ]
  },
  {
   "cell_type": "markdown",
   "metadata": {
    "id": "hEpOc-NRXXy2"
   },
   "source": [
    "#### Synthetic Minority Oversampling Technique\n",
    "> - Reference link for SMOTE : https://imbalanced-learn.org/stable/over_sampling.html\n",
    "        \n",
    "- SMOTE: Synthetic Minority Oversampling Technique\n",
    "- SMOTE is an oversampling technique where the synthetic samples are generated for the minority class.\n",
    "- This algorithm helps to overcome the overfitting problem posed by random oversampling. \n",
    "- It focuses on the feature space to generate new instances with the help of interpolation between the positive instances that lie together.\n",
    "- general idea to carry out this technique is to bring the minority class values ( either 0 or 1 ) to a comparable number in terms of the other class . In other words to match up the length of the other class."
   ]
  },
  {
   "cell_type": "code",
   "execution_count": null,
   "metadata": {
    "executionInfo": {
     "elapsed": 1255,
     "status": "aborted",
     "timestamp": 1629217732898,
     "user": {
      "displayName": "Madhav Jauhari",
      "photoUrl": "https://lh3.googleusercontent.com/a-/AOh14Gghbg8rb_f6ibKyinX6HSh3SIDBJelyamAMDxGC55Y=s64",
      "userId": "13105489007187997014"
     },
     "user_tz": -330
    },
    "id": "weh2WGfTXXy2"
   },
   "outputs": [],
   "source": [
    "#importing imblearn library\n",
    "import imblearn\n",
    "\n",
    "from imblearn.over_sampling import SMOTE"
   ]
  },
  {
   "cell_type": "code",
   "execution_count": null,
   "metadata": {
    "executionInfo": {
     "elapsed": 1255,
     "status": "aborted",
     "timestamp": 1629217732898,
     "user": {
      "displayName": "Madhav Jauhari",
      "photoUrl": "https://lh3.googleusercontent.com/a-/AOh14Gghbg8rb_f6ibKyinX6HSh3SIDBJelyamAMDxGC55Y=s64",
      "userId": "13105489007187997014"
     },
     "user_tz": -330
    },
    "id": "fOmDHBwmXXy2"
   },
   "outputs": [],
   "source": [
    "#efine dataset, mentioning neighbours is 5 and fit the model\n",
    "x_resample,y_resample=SMOTE(k_neighbors=5).fit_resample(df,y)"
   ]
  },
  {
   "cell_type": "code",
   "execution_count": null,
   "metadata": {
    "executionInfo": {
     "elapsed": 1256,
     "status": "aborted",
     "timestamp": 1629217732899,
     "user": {
      "displayName": "Madhav Jauhari",
      "photoUrl": "https://lh3.googleusercontent.com/a-/AOh14Gghbg8rb_f6ibKyinX6HSh3SIDBJelyamAMDxGC55Y=s64",
      "userId": "13105489007187997014"
     },
     "user_tz": -330
    },
    "id": "kTrLgw03XXy2"
   },
   "outputs": [],
   "source": [
    "x_resample"
   ]
  },
  {
   "cell_type": "code",
   "execution_count": null,
   "metadata": {
    "executionInfo": {
     "elapsed": 1256,
     "status": "aborted",
     "timestamp": 1629217732899,
     "user": {
      "displayName": "Madhav Jauhari",
      "photoUrl": "https://lh3.googleusercontent.com/a-/AOh14Gghbg8rb_f6ibKyinX6HSh3SIDBJelyamAMDxGC55Y=s64",
      "userId": "13105489007187997014"
     },
     "user_tz": -330
    },
    "id": "SgbRQIoBXXy3"
   },
   "outputs": [],
   "source": [
    "# Saving arrays name called credit_card_oversample\n",
    "np.savez('credit_card_oversample.npz',x_resample,y_resample)"
   ]
  },
  {
   "cell_type": "code",
   "execution_count": null,
   "metadata": {
    "executionInfo": {
     "elapsed": 1256,
     "status": "aborted",
     "timestamp": 1629217732900,
     "user": {
      "displayName": "Madhav Jauhari",
      "photoUrl": "https://lh3.googleusercontent.com/a-/AOh14Gghbg8rb_f6ibKyinX6HSh3SIDBJelyamAMDxGC55Y=s64",
      "userId": "13105489007187997014"
     },
     "user_tz": -330
    },
    "id": "RORt8RFhXXy3"
   },
   "outputs": [],
   "source": [
    "pd.Series(y_resample).value_counts()\n",
    "##value_counts() function returns object containing counts of unique values"
   ]
  },
  {
   "cell_type": "markdown",
   "metadata": {
    "id": "dAdeytE1XXy3"
   },
   "source": [
    "### NOTE\n",
    "> Now the data is balanced "
   ]
  },
  {
   "cell_type": "code",
   "execution_count": null,
   "metadata": {
    "executionInfo": {
     "elapsed": 1256,
     "status": "aborted",
     "timestamp": 1629217732900,
     "user": {
      "displayName": "Madhav Jauhari",
      "photoUrl": "https://lh3.googleusercontent.com/a-/AOh14Gghbg8rb_f6ibKyinX6HSh3SIDBJelyamAMDxGC55Y=s64",
      "userId": "13105489007187997014"
     },
     "user_tz": -330
    },
    "id": "XdvFfjuLXXy3"
   },
   "outputs": [],
   "source": [
    "#load data what we balanced the data\n",
    "data_over=np.load('credit_card_oversample.npz')\n",
    "#read it\n",
    "data_over.files"
   ]
  },
  {
   "cell_type": "code",
   "execution_count": null,
   "metadata": {
    "executionInfo": {
     "elapsed": 1256,
     "status": "aborted",
     "timestamp": 1629217732900,
     "user": {
      "displayName": "Madhav Jauhari",
      "photoUrl": "https://lh3.googleusercontent.com/a-/AOh14Gghbg8rb_f6ibKyinX6HSh3SIDBJelyamAMDxGC55Y=s64",
      "userId": "13105489007187997014"
     },
     "user_tz": -330
    },
    "id": "7ofeKsMYXXy3"
   },
   "outputs": [],
   "source": [
    "x_over=data_over['arr_0'] \n",
    "\n",
    "#independent variable\n",
    "\n",
    "y_over=data_over['arr_1']   #dependent variable"
   ]
  },
  {
   "cell_type": "code",
   "execution_count": null,
   "metadata": {
    "executionInfo": {
     "elapsed": 59,
     "status": "aborted",
     "timestamp": 1629217732908,
     "user": {
      "displayName": "Madhav Jauhari",
      "photoUrl": "https://lh3.googleusercontent.com/a-/AOh14Gghbg8rb_f6ibKyinX6HSh3SIDBJelyamAMDxGC55Y=s64",
      "userId": "13105489007187997014"
     },
     "user_tz": -330
    },
    "id": "eyLX0-mRXXy3"
   },
   "outputs": [],
   "source": [
    "pd.Series(y_over).value_counts()\n",
    "#Create it\n",
    "#value_counts() function returns object containing counts of unique values"
   ]
  },
  {
   "cell_type": "markdown",
   "metadata": {
    "id": "7_xpyWgwXXy3"
   },
   "source": [
    "### NOTE:\n",
    "> **Now, the data is balanced, they are equal**"
   ]
  },
  {
   "cell_type": "markdown",
   "metadata": {
    "id": "6zU-V_TgXXy3"
   },
   "source": [
    "### From Oversampling data Split Train_Test"
   ]
  },
  {
   "cell_type": "code",
   "execution_count": null,
   "metadata": {
    "executionInfo": {
     "elapsed": 60,
     "status": "aborted",
     "timestamp": 1629217732910,
     "user": {
      "displayName": "Madhav Jauhari",
      "photoUrl": "https://lh3.googleusercontent.com/a-/AOh14Gghbg8rb_f6ibKyinX6HSh3SIDBJelyamAMDxGC55Y=s64",
      "userId": "13105489007187997014"
     },
     "user_tz": -330
    },
    "id": "nZpUeUdQXXy4"
   },
   "outputs": [],
   "source": [
    "#import the sklean and train_test_split\n",
    "from sklearn.model_selection import train_test_split\n",
    "\n",
    "#Split the data into train and test , mention test_size\n",
    "x_train,x_test,y_train,y_test=train_test_split(x_over,y_over,test_size=0.2)"
   ]
  },
  {
   "cell_type": "code",
   "execution_count": null,
   "metadata": {
    "executionInfo": {
     "elapsed": 61,
     "status": "aborted",
     "timestamp": 1629217732911,
     "user": {
      "displayName": "Madhav Jauhari",
      "photoUrl": "https://lh3.googleusercontent.com/a-/AOh14Gghbg8rb_f6ibKyinX6HSh3SIDBJelyamAMDxGC55Y=s64",
      "userId": "13105489007187997014"
     },
     "user_tz": -330
    },
    "id": "NLpRRs8bXXy4"
   },
   "outputs": [],
   "source": [
    "# Check the shape of the each data\n",
    "x_train.shape,x_test.shape,y_train.shape,y_test.shape"
   ]
  },
  {
   "cell_type": "markdown",
   "metadata": {
    "id": "4Ijh_LKqXXy4"
   },
   "source": [
    "#### Classifiaction"
   ]
  },
  {
   "cell_type": "code",
   "execution_count": null,
   "metadata": {
    "executionInfo": {
     "elapsed": 61,
     "status": "aborted",
     "timestamp": 1629217732911,
     "user": {
      "displayName": "Madhav Jauhari",
      "photoUrl": "https://lh3.googleusercontent.com/a-/AOh14Gghbg8rb_f6ibKyinX6HSh3SIDBJelyamAMDxGC55Y=s64",
      "userId": "13105489007187997014"
     },
     "user_tz": -330
    },
    "id": "MUPvRYSZXXy4"
   },
   "outputs": [],
   "source": [
    "from sklearn.neighbors import KNeighborsClassifier\n",
    "# Import the algorithm, called KNN"
   ]
  },
  {
   "cell_type": "code",
   "execution_count": null,
   "metadata": {
    "executionInfo": {
     "elapsed": 61,
     "status": "aborted",
     "timestamp": 1629217732911,
     "user": {
      "displayName": "Madhav Jauhari",
      "photoUrl": "https://lh3.googleusercontent.com/a-/AOh14Gghbg8rb_f6ibKyinX6HSh3SIDBJelyamAMDxGC55Y=s64",
      "userId": "13105489007187997014"
     },
     "user_tz": -330
    },
    "id": "TiSrIcUcXXy4"
   },
   "outputs": [],
   "source": [
    "#Build the model and mention n_neighbours, and metric\n",
    "model_over = KNeighborsClassifier(n_neighbors=5,metric='minkowski',p=2)"
   ]
  },
  {
   "cell_type": "code",
   "execution_count": null,
   "metadata": {
    "executionInfo": {
     "elapsed": 62,
     "status": "aborted",
     "timestamp": 1629217732912,
     "user": {
      "displayName": "Madhav Jauhari",
      "photoUrl": "https://lh3.googleusercontent.com/a-/AOh14Gghbg8rb_f6ibKyinX6HSh3SIDBJelyamAMDxGC55Y=s64",
      "userId": "13105489007187997014"
     },
     "user_tz": -330
    },
    "id": "On4zFdcNXXy4"
   },
   "outputs": [],
   "source": [
    "model_over.fit(x_train,y_train)\n",
    "#train the model"
   ]
  },
  {
   "cell_type": "markdown",
   "metadata": {
    "id": "lrZIERFEXXy4"
   },
   "source": [
    "### Evaluation"
   ]
  },
  {
   "cell_type": "code",
   "execution_count": null,
   "metadata": {
    "executionInfo": {
     "elapsed": 61,
     "status": "aborted",
     "timestamp": 1629217732912,
     "user": {
      "displayName": "Madhav Jauhari",
      "photoUrl": "https://lh3.googleusercontent.com/a-/AOh14Gghbg8rb_f6ibKyinX6HSh3SIDBJelyamAMDxGC55Y=s64",
      "userId": "13105489007187997014"
     },
     "user_tz": -330
    },
    "id": "2OyZUqjBXXy4"
   },
   "outputs": [],
   "source": [
    "y_pred=model_over.predict(x_test)\n",
    "#predict the model\n",
    "\n",
    "y_pred_prob=model_over.predict_proba(x_test)[:,1]\n",
    "#predict and find probabilities"
   ]
  },
  {
   "cell_type": "code",
   "execution_count": null,
   "metadata": {
    "executionInfo": {
     "elapsed": 61,
     "status": "aborted",
     "timestamp": 1629217732912,
     "user": {
      "displayName": "Madhav Jauhari",
      "photoUrl": "https://lh3.googleusercontent.com/a-/AOh14Gghbg8rb_f6ibKyinX6HSh3SIDBJelyamAMDxGC55Y=s64",
      "userId": "13105489007187997014"
     },
     "user_tz": -330
    },
    "id": "6ofzWEFhXXy4"
   },
   "outputs": [],
   "source": [
    "classification_metric(y_test,y_pred,y_pred_prob,['no','yes'],n=1,verbose=True)"
   ]
  },
  {
   "cell_type": "markdown",
   "metadata": {
    "id": "h33YC-1nXXy5"
   },
   "source": [
    "## **Note :- ** \n",
    "- **We can see an improvement in the ROC AUC score , at k=7 -> 0.962 we get the highest ROC AUC score followed by k= 6,5,4.. and so on**\n",
    "> - Kappa Score - 0.92\n",
    "> - AUC SCORE -   0.96\n",
    "> - F1 Score - 96"
   ]
  },
  {
   "cell_type": "markdown",
   "metadata": {
    "id": "qB0s4YV8XXy5"
   },
   "source": [
    "## What could be Real Time Accuracy ?"
   ]
  },
  {
   "cell_type": "markdown",
   "metadata": {
    "id": "RVsnBkFFXXy5"
   },
   "source": [
    "#### K-Fold"
   ]
  },
  {
   "cell_type": "code",
   "execution_count": null,
   "metadata": {
    "executionInfo": {
     "elapsed": 62,
     "status": "aborted",
     "timestamp": 1629217732913,
     "user": {
      "displayName": "Madhav Jauhari",
      "photoUrl": "https://lh3.googleusercontent.com/a-/AOh14Gghbg8rb_f6ibKyinX6HSh3SIDBJelyamAMDxGC55Y=s64",
      "userId": "13105489007187997014"
     },
     "user_tz": -330
    },
    "id": "K_DgTtR2XXy5"
   },
   "outputs": [],
   "source": [
    "#import the train_test_split\n",
    "from sklearn.model_selection import train_test_split\n",
    "\n",
    "#split the data into train , test and mention test size\n",
    "x_train,x_test,y_train,y_test=train_test_split(x_over,y_over,test_size=0.2)"
   ]
  },
  {
   "cell_type": "code",
   "execution_count": null,
   "metadata": {
    "executionInfo": {
     "elapsed": 62,
     "status": "aborted",
     "timestamp": 1629217732913,
     "user": {
      "displayName": "Madhav Jauhari",
      "photoUrl": "https://lh3.googleusercontent.com/a-/AOh14Gghbg8rb_f6ibKyinX6HSh3SIDBJelyamAMDxGC55Y=s64",
      "userId": "13105489007187997014"
     },
     "user_tz": -330
    },
    "id": "DRDVoKeaXXy6"
   },
   "outputs": [],
   "source": [
    "np.random.seed(101)\n",
    "from sklearn.model_selection import KFold\n",
    " #import kfold"
   ]
  },
  {
   "cell_type": "markdown",
   "metadata": {
    "id": "a31lzhe3XXy6"
   },
   "source": [
    "> ### KFold-\n",
    "> - **Reference link for KFold** https://scikit-learn.org/stable/modules/cross_validation.html\n",
    "    -  **K-fold Cross Validation(CV) provides a solution to this problem by dividing the data into folds and ensuring that each fold is used as a testing set at some point.**![grid_search_cross_validation%20%281%29.png](attachment:grid_search_cross_validation%20%281%29.png)"
   ]
  },
  {
   "cell_type": "code",
   "execution_count": null,
   "metadata": {
    "executionInfo": {
     "elapsed": 64,
     "status": "aborted",
     "timestamp": 1629217732915,
     "user": {
      "displayName": "Madhav Jauhari",
      "photoUrl": "https://lh3.googleusercontent.com/a-/AOh14Gghbg8rb_f6ibKyinX6HSh3SIDBJelyamAMDxGC55Y=s64",
      "userId": "13105489007187997014"
     },
     "user_tz": -330
    },
    "id": "HVvdi7UcXXy6"
   },
   "outputs": [],
   "source": [
    "kfold=KFold(n_splits=5, shuffle=False)\n",
    "\n",
    "#KFold divides all the samples in  groups of samples, called folds (if , this is equivalent to the Leave One Out strategy), of equal sizes (if possible). The prediction function is learned using  folds, and the fold left out is used for test."
   ]
  },
  {
   "cell_type": "code",
   "execution_count": null,
   "metadata": {
    "executionInfo": {
     "elapsed": 68,
     "status": "aborted",
     "timestamp": 1629217732919,
     "user": {
      "displayName": "Madhav Jauhari",
      "photoUrl": "https://lh3.googleusercontent.com/a-/AOh14Gghbg8rb_f6ibKyinX6HSh3SIDBJelyamAMDxGC55Y=s64",
      "userId": "13105489007187997014"
     },
     "user_tz": -330
    },
    "id": "Ry_3BDxCXXy6"
   },
   "outputs": [],
   "source": [
    "cross_validation=[]\n",
    "for train_index,test_index in kfold.split(x_train):\n",
    "    print(\"TRAIN:\",train_index,\"TEST:\",test_index)\n",
    "    x_train_kf,x_test_kf=x_train[train_index],x_train[test_index]\n",
    "    y_train_kf,y_test_kf=y_train[train_index],y_train[test_index]\n",
    "    \n",
    "           # building model\n",
    "    \n",
    "    model_cv=KNeighborsClassifier(n_neighbors=5)\n",
    "    model_cv.fit(x_train_kf,y_train_kf)\n",
    "    \n",
    "           # taking accuracy\n",
    "    acc=round(model_cv.score(x_test_kf,y_test_kf) * 100, 2)   #round( accuracy_score(y_test, y_pred) * 100, 2 )\n",
    "    cross_validation.append(acc*100)    # *100 means making percentage"
   ]
  },
  {
   "cell_type": "markdown",
   "metadata": {
    "id": "LRP5RKdIXXy6"
   },
   "source": [
    "#### Cross Validation\n",
    "> - Cross-validation is primarily used in applied machine learning to estimate the skill of a machine learning model on unseen data.\n",
    "> - That is, to use a limited sample in order to estimate how the model is expected to perform in general when used to make predictions on data not used during the training of the model."
   ]
  },
  {
   "cell_type": "code",
   "execution_count": null,
   "metadata": {
    "executionInfo": {
     "elapsed": 69,
     "status": "aborted",
     "timestamp": 1629217732921,
     "user": {
      "displayName": "Madhav Jauhari",
      "photoUrl": "https://lh3.googleusercontent.com/a-/AOh14Gghbg8rb_f6ibKyinX6HSh3SIDBJelyamAMDxGC55Y=s64",
      "userId": "13105489007187997014"
     },
     "user_tz": -330
    },
    "id": "zsjXORuiXXy7"
   },
   "outputs": [],
   "source": [
    "cross_validation  # to estimate the skill of a machine learning model on unseen data."
   ]
  },
  {
   "cell_type": "markdown",
   "metadata": {
    "id": "TFYWrpFOXXy7"
   },
   "source": [
    "### NOTE :\n",
    "> - We got Very good Cross validation Score\n"
   ]
  },
  {
   "cell_type": "code",
   "execution_count": null,
   "metadata": {
    "executionInfo": {
     "elapsed": 71,
     "status": "aborted",
     "timestamp": 1629217732923,
     "user": {
      "displayName": "Madhav Jauhari",
      "photoUrl": "https://lh3.googleusercontent.com/a-/AOh14Gghbg8rb_f6ibKyinX6HSh3SIDBJelyamAMDxGC55Y=s64",
      "userId": "13105489007187997014"
     },
     "user_tz": -330
    },
    "id": "ykPuIA2AXXy7"
   },
   "outputs": [],
   "source": [
    "np.mean(cross_validation),pd.Series(cross_validation).var()\n",
    "# MEAN & VARIENCE for cross_validation\n",
    "# it has low varience (<10)"
   ]
  },
  {
   "cell_type": "markdown",
   "metadata": {
    "id": "eZyILJMAXXy7"
   },
   "source": [
    "#### Logistic Regression\n",
    "> - **Reference link for Logistic Regression :** https://scikit-learn.org/stable/modules/generated/sklearn.linear_model.LogisticRegression.html\n",
    "> - Logistic regression is a calculation used to predict a binary outcome: either something happens, or does not. This can be exhibited as Yes/No, Pass/Fail, Alive/Dead, etc. \n",
    "\n",
    "> - Independent variables are analyzed to determine the binary outcome with the results falling into one of two categories. > - The independent variables can be categorical or numeric, but the dependent variable is always categorical. \n",
    "\n",
    "\n",
    "#### Naive Bayes\n",
    "> - **Reference link for Naive bayes :**https://scikit-learn.org/stable/modules/naive_bayes.html\n",
    "> - Naive Bayes calculates the possibility of whether a data point belongs within a certain category or does not.\n",
    "- Naive Bayes algorithms assume that there’s no correlation between features in a dataset used to train the model.\n",
    "\n",
    "#### K-nearest Neighbors\n",
    "> - **Reference link for KNN :** https://towardsdatascience.com/machine-learning-basics-with-the-k-nearest-neighbors-algorithm-6a6e71d01761\n",
    "> -K-nearest neighbors (k-NN) is a pattern recognition algorithm that uses training datasets to find the k closest relatives in future examples. \n",
    "\n",
    "> -When k-NN is used in classification, you calculate to place data within the category of its nearest neighbor. If k = 1, then it would be placed in the class nearest 1. K is classified by a plurality poll of its neighbors.\n",
    "\n",
    "#### Decision Tree\n",
    "> - **Reference link for Decision Tree :** https://scikit-learn.org/stable/modules/tree.html\n",
    "> - A decision tree is a supervised learning algorithm that is perfect for classification problems, as it’s able to order classes on a precise level. \n",
    "> - It works like a flow chart, separating data points into two similar categories at a time from the “tree trunk” to “branches,” to “leaves,” where the categories become more finitely similar.\n",
    "> -This creates categories within categories, allowing for organic classification with limited human supervision.\n",
    "\n",
    "#### Random Forest\n",
    "> - **Reference link for KNN :** https://scikit-learn.org/stable/modules/generated/sklearn.ensemble.RandomForestClassifier.html\n",
    "> -The random forest algorithm is an expansion of decision tree, in that you first construct a multitude of decision trees with training data, then fit your new data within one of the trees as a “random forest.”\n",
    "\n",
    "> -It, essentially, averages your data to connect it to the nearest tree on the data scale. Random forest models are helpful as they remedy for the decision tree’s problem of “forcing” data points within a category unnecessarily. \n",
    "\n",
    "#### Linear Discriminant Analysis (LDA) algorithm\n",
    "> - **Reference link for KNN :** https://machinelearningmastery.com/linear-discriminant-analysis-with-python/\n",
    "> - LDA for classification predictive modeling problems. \n",
    "- The limitations of logistic regression and the need for linear discriminant analysis.\n",
    "- The representation of the model that is learned from data and can be saved to file.\n",
    "- How the model is estimated from your data.\n",
    "- How to make predictions from a learned LDA model.\n",
    "- How to prepare your data to get the most from the LDA model."
   ]
  },
  {
   "cell_type": "markdown",
   "metadata": {
    "id": "3p9_HpeFXXy7"
   },
   "source": [
    "# Data Modelling"
   ]
  },
  {
   "cell_type": "markdown",
   "metadata": {
    "id": "ako8vXe3XXy7"
   },
   "source": [
    "### Logistic Regression"
   ]
  },
  {
   "cell_type": "code",
   "execution_count": null,
   "metadata": {
    "executionInfo": {
     "elapsed": 72,
     "status": "aborted",
     "timestamp": 1629217732924,
     "user": {
      "displayName": "Madhav Jauhari",
      "photoUrl": "https://lh3.googleusercontent.com/a-/AOh14Gghbg8rb_f6ibKyinX6HSh3SIDBJelyamAMDxGC55Y=s64",
      "userId": "13105489007187997014"
     },
     "user_tz": -330
    },
    "id": "Id9KlP9cXXy7"
   },
   "outputs": [],
   "source": [
    "from sklearn.metrics import accuracy_score\n",
    "\n",
    "#Import Library for Logistic Regression\n",
    "from sklearn.linear_model import LogisticRegression\n",
    "\n",
    "#Initialize the Logistic Regression Classifier\n",
    "logisreg = LogisticRegression()\n",
    "\n",
    "#Train the model using Training Dataset\n",
    "logisreg.fit(x_train, y_train)\n",
    "\n",
    "# Prediction using test data\n",
    "y_pred = logisreg.predict(x_test)\n",
    "\n",
    "# Calculate Model accuracy by comparing y_test and y_pred\n",
    "acc_logisreg = round( accuracy_score(y_test, y_pred) * 100, 2 )\n",
    "print( 'Accuracy of Logistic Regression model : ', acc_logisreg )"
   ]
  },
  {
   "cell_type": "markdown",
   "metadata": {
    "id": "leuMaXCMXXy7"
   },
   "source": [
    "### Linear Discriminent Analysis"
   ]
  },
  {
   "cell_type": "code",
   "execution_count": null,
   "metadata": {
    "executionInfo": {
     "elapsed": 72,
     "status": "aborted",
     "timestamp": 1629217732924,
     "user": {
      "displayName": "Madhav Jauhari",
      "photoUrl": "https://lh3.googleusercontent.com/a-/AOh14Gghbg8rb_f6ibKyinX6HSh3SIDBJelyamAMDxGC55Y=s64",
      "userId": "13105489007187997014"
     },
     "user_tz": -330
    },
    "id": "7xGTh6dUXXy8"
   },
   "outputs": [],
   "source": [
    "#Import Library for Linear Discriminant Analysis\n",
    "from sklearn.discriminant_analysis import LinearDiscriminantAnalysis\n",
    "\n",
    "#Initialize the Linear Discriminant Analysis Classifier\n",
    "model = LinearDiscriminantAnalysis()\n",
    "\n",
    "#Train the model using Training Dataset\n",
    "model.fit(x_train, y_train)\n",
    "\n",
    "# Prediction using test data\n",
    "y_pred = model.predict(x_test)\n",
    "\n",
    "# Calculate Model accuracy by comparing y_test and y_pred\n",
    "acc_lda = round( accuracy_score(y_test, y_pred) * 100, 2 )\n",
    "print( 'Accuracy of Linear Discriminant Analysis Classifier: ', acc_lda )"
   ]
  },
  {
   "cell_type": "markdown",
   "metadata": {
    "id": "ykdEP1iCXXy8"
   },
   "source": [
    "### Gaussian Naive Bayes"
   ]
  },
  {
   "cell_type": "code",
   "execution_count": null,
   "metadata": {
    "executionInfo": {
     "elapsed": 71,
     "status": "aborted",
     "timestamp": 1629217732924,
     "user": {
      "displayName": "Madhav Jauhari",
      "photoUrl": "https://lh3.googleusercontent.com/a-/AOh14Gghbg8rb_f6ibKyinX6HSh3SIDBJelyamAMDxGC55Y=s64",
      "userId": "13105489007187997014"
     },
     "user_tz": -330
    },
    "id": "eqIkOJ4xXXy8"
   },
   "outputs": [],
   "source": [
    "#Import Library for Gaussian Naive Bayes\n",
    "from sklearn.naive_bayes import GaussianNB\n",
    "\n",
    "#Initialize the Gaussian Naive Bayes Classifier\n",
    "model = GaussianNB()\n",
    "\n",
    "#Train the model using Training Dataset\n",
    "model.fit(x_train, y_train)\n",
    "\n",
    "# Prediction using test data\n",
    "y_pred = model.predict(x_test)\n",
    "\n",
    "# Calculate Model accuracy by comparing y_test and y_pred\n",
    "acc_ganb = round( accuracy_score(y_test, y_pred) * 100, 2 )\n",
    "print( 'Accuracy of Gaussian Naive Bayes : ', acc_ganb )"
   ]
  },
  {
   "cell_type": "markdown",
   "metadata": {
    "id": "EkGa1HeXXXy8"
   },
   "source": [
    "### Decision Tree"
   ]
  },
  {
   "cell_type": "code",
   "execution_count": null,
   "metadata": {
    "executionInfo": {
     "elapsed": 72,
     "status": "aborted",
     "timestamp": 1629217732925,
     "user": {
      "displayName": "Madhav Jauhari",
      "photoUrl": "https://lh3.googleusercontent.com/a-/AOh14Gghbg8rb_f6ibKyinX6HSh3SIDBJelyamAMDxGC55Y=s64",
      "userId": "13105489007187997014"
     },
     "user_tz": -330
    },
    "id": "plXC9xyMXXy8"
   },
   "outputs": [],
   "source": [
    "#Import Library for Decision Tree Classifier\n",
    "from sklearn.tree import DecisionTreeClassifier\n",
    "\n",
    "#Initialize the Decision Tree Classifier\n",
    "model = DecisionTreeClassifier()\n",
    "\n",
    "#Train the model using Training Dataset\n",
    "model.fit(x_train, y_train)\n",
    "\n",
    "# Prediction using test data\n",
    "y_pred = model.predict(x_test)\n",
    "\n",
    "# Calculate Model accuracy by comparing y_test and y_pred\n",
    "acc_dtree = round( accuracy_score(y_test, y_pred) * 100, 2 )\n",
    "print( 'Accuracy of  Decision Tree Classifier : ', acc_dtree )\n"
   ]
  },
  {
   "cell_type": "markdown",
   "metadata": {
    "id": "t0Ge3GIuXXy8"
   },
   "source": [
    "### Random Forest"
   ]
  },
  {
   "cell_type": "code",
   "execution_count": null,
   "metadata": {
    "executionInfo": {
     "elapsed": 72,
     "status": "aborted",
     "timestamp": 1629217732925,
     "user": {
      "displayName": "Madhav Jauhari",
      "photoUrl": "https://lh3.googleusercontent.com/a-/AOh14Gghbg8rb_f6ibKyinX6HSh3SIDBJelyamAMDxGC55Y=s64",
      "userId": "13105489007187997014"
     },
     "user_tz": -330
    },
    "id": "gGhYiycFXXy8"
   },
   "outputs": [],
   "source": [
    "#Import Library for Random Forest\n",
    "from sklearn.ensemble import RandomForestClassifier\n",
    "\n",
    "#Initialize the Random Forest\n",
    "model = RandomForestClassifier()\n",
    "\n",
    "#Train the model using Training Dataset\n",
    "model.fit(x_train, y_train)\n",
    "\n",
    "# Prediction using test data\n",
    "y_pred = model.predict(x_test)\n",
    "\n",
    "# Calculate Model accuracy by comparing y_test and y_pred\n",
    "acc_rf = round( accuracy_score(y_test, y_pred) * 100, 2 )\n",
    "print( 'Accuracy of  Random Forest : ', acc_rf )"
   ]
  },
  {
   "cell_type": "markdown",
   "metadata": {
    "id": "hmtpHW0lXXy8"
   },
   "source": [
    "## Model Selection"
   ]
  },
  {
   "cell_type": "code",
   "execution_count": null,
   "metadata": {
    "executionInfo": {
     "elapsed": 71,
     "status": "aborted",
     "timestamp": 1629217732925,
     "user": {
      "displayName": "Madhav Jauhari",
      "photoUrl": "https://lh3.googleusercontent.com/a-/AOh14Gghbg8rb_f6ibKyinX6HSh3SIDBJelyamAMDxGC55Y=s64",
      "userId": "13105489007187997014"
     },
     "user_tz": -330
    },
    "id": "KtcXn6aPXXy9"
   },
   "outputs": [],
   "source": [
    "# Cretae a dataframe with all models and score\n",
    "\n",
    "models = pd.DataFrame({\n",
    "    'Model': ['Logistic Regression', 'Linear Discriminant Analysis','Naive Bayes', 'Decision Tree', 'Random Forest',  \n",
    "              'K - Nearest Neighbors'],\n",
    "    'Score': [acc_logisreg, acc_lda, acc_ganb, acc_dtree, acc_rf,  acc]})\n",
    "\n",
    "models.sort_values(by='Score', ascending=False)"
   ]
  },
  {
   "cell_type": "code",
   "execution_count": null,
   "metadata": {
    "executionInfo": {
     "elapsed": 72,
     "status": "aborted",
     "timestamp": 1629217732926,
     "user": {
      "displayName": "Madhav Jauhari",
      "photoUrl": "https://lh3.googleusercontent.com/a-/AOh14Gghbg8rb_f6ibKyinX6HSh3SIDBJelyamAMDxGC55Y=s64",
      "userId": "13105489007187997014"
     },
     "user_tz": -330
    },
    "id": "SFEUrxYFXXy9"
   },
   "outputs": [],
   "source": []
  }
 ],
 "metadata": {
  "colab": {
   "name": "Credit Card Fraud Detection.ipynb",
   "version": ""
  },
  "kernelspec": {
   "display_name": "Python 3",
   "language": "python",
   "name": "python3"
  },
  "language_info": {
   "codemirror_mode": {
    "name": "ipython",
    "version": 3
   },
   "file_extension": ".py",
   "mimetype": "text/x-python",
   "name": "python",
   "nbconvert_exporter": "python",
   "pygments_lexer": "ipython3",
   "version": "3.8.8"
  }
 },
 "nbformat": 4,
 "nbformat_minor": 1
}
